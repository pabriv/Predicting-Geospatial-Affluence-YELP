{
 "cells": [
  {
   "cell_type": "code",
   "execution_count": 1,
   "metadata": {
    "ExecuteTime": {
     "end_time": "2020-02-20T23:17:03.591424Z",
     "start_time": "2020-02-20T23:17:01.627536Z"
    }
   },
   "outputs": [],
   "source": [
    "import pandas as pd\n",
    "import numpy as np\n",
    "import matplotlib.pyplot as plt\n",
    "from sklearn.model_selection import train_test_split"
   ]
  },
  {
   "cell_type": "code",
   "execution_count": 2,
   "metadata": {
    "ExecuteTime": {
     "end_time": "2020-02-20T23:17:03.682790Z",
     "start_time": "2020-02-20T23:17:03.593504Z"
    }
   },
   "outputs": [],
   "source": [
    "from sklearn.linear_model import LogisticRegression\n",
    "from sklearn.neighbors import KNeighborsClassifier\n",
    "from sklearn.tree import DecisionTreeClassifier\n",
    "from sklearn.svm import SVC\n",
    "from sklearn.ensemble import AdaBoostClassifier\n",
    "from sklearn.ensemble import BaggingClassifier, RandomForestClassifier"
   ]
  },
  {
   "cell_type": "code",
   "execution_count": 3,
   "metadata": {
    "ExecuteTime": {
     "end_time": "2020-02-20T23:17:03.688780Z",
     "start_time": "2020-02-20T23:17:03.685891Z"
    }
   },
   "outputs": [],
   "source": [
    "# Import cleaned, aggregating data"
   ]
  },
  {
   "cell_type": "code",
   "execution_count": 4,
   "metadata": {
    "ExecuteTime": {
     "end_time": "2020-02-20T23:17:03.707771Z",
     "start_time": "2020-02-20T23:17:03.691634Z"
    }
   },
   "outputs": [],
   "source": [
    "df = pd.read_csv(\"./Data/mini_finalv2.csv\")"
   ]
  },
  {
   "cell_type": "code",
   "execution_count": 5,
   "metadata": {
    "ExecuteTime": {
     "end_time": "2020-02-20T23:17:03.731413Z",
     "start_time": "2020-02-20T23:17:03.709401Z"
    }
   },
   "outputs": [
    {
     "data": {
      "text/html": [
       "<div>\n",
       "<style scoped>\n",
       "    .dataframe tbody tr th:only-of-type {\n",
       "        vertical-align: middle;\n",
       "    }\n",
       "\n",
       "    .dataframe tbody tr th {\n",
       "        vertical-align: top;\n",
       "    }\n",
       "\n",
       "    .dataframe thead th {\n",
       "        text-align: right;\n",
       "    }\n",
       "</style>\n",
       "<table border=\"1\" class=\"dataframe\">\n",
       "  <thead>\n",
       "    <tr style=\"text-align: right;\">\n",
       "      <th></th>\n",
       "      <th>price</th>\n",
       "      <th>mean_commute_time</th>\n",
       "      <th>median_home_value</th>\n",
       "      <th>percent_bachelors_or_higher</th>\n",
       "      <th>percent_below_poverty</th>\n",
       "      <th>percent_highschool_or_higher</th>\n",
       "      <th>percent_no_health_insurance</th>\n",
       "      <th>rating</th>\n",
       "      <th>review_count</th>\n",
       "      <th>unemployment_rate</th>\n",
       "      <th>...</th>\n",
       "      <th>density</th>\n",
       "      <th>income_category</th>\n",
       "      <th>price_weight</th>\n",
       "      <th>price_weight_contr</th>\n",
       "      <th>price_weight_contrv2</th>\n",
       "      <th>zip_code</th>\n",
       "      <th>high_price</th>\n",
       "      <th>4_star</th>\n",
       "      <th>1_star</th>\n",
       "      <th>zip_code.1</th>\n",
       "    </tr>\n",
       "  </thead>\n",
       "  <tbody>\n",
       "    <tr>\n",
       "      <th>0</th>\n",
       "      <td>3.000</td>\n",
       "      <td>28.1</td>\n",
       "      <td>197100.0</td>\n",
       "      <td>29.2</td>\n",
       "      <td>5.4</td>\n",
       "      <td>92.6</td>\n",
       "      <td>3.4</td>\n",
       "      <td>4.500000</td>\n",
       "      <td>2.0</td>\n",
       "      <td>6.9</td>\n",
       "      <td>...</td>\n",
       "      <td>116.4</td>\n",
       "      <td>1.0</td>\n",
       "      <td>27.000000</td>\n",
       "      <td>0.310416</td>\n",
       "      <td>15.520809</td>\n",
       "      <td>1069</td>\n",
       "      <td>1</td>\n",
       "      <td>0</td>\n",
       "      <td>0</td>\n",
       "      <td>1069</td>\n",
       "    </tr>\n",
       "    <tr>\n",
       "      <th>1</th>\n",
       "      <td>2.500</td>\n",
       "      <td>17.8</td>\n",
       "      <td>174600.0</td>\n",
       "      <td>28.8</td>\n",
       "      <td>9.0</td>\n",
       "      <td>90.2</td>\n",
       "      <td>2.6</td>\n",
       "      <td>4.250000</td>\n",
       "      <td>9.5</td>\n",
       "      <td>7.8</td>\n",
       "      <td>...</td>\n",
       "      <td>339.2</td>\n",
       "      <td>0.0</td>\n",
       "      <td>84.250000</td>\n",
       "      <td>0.188872</td>\n",
       "      <td>2.409936</td>\n",
       "      <td>1201</td>\n",
       "      <td>1</td>\n",
       "      <td>0</td>\n",
       "      <td>0</td>\n",
       "      <td>1201</td>\n",
       "    </tr>\n",
       "    <tr>\n",
       "      <th>2</th>\n",
       "      <td>1.500</td>\n",
       "      <td>23.7</td>\n",
       "      <td>152000.0</td>\n",
       "      <td>22.6</td>\n",
       "      <td>8.6</td>\n",
       "      <td>88.1</td>\n",
       "      <td>1.7</td>\n",
       "      <td>4.250000</td>\n",
       "      <td>14.5</td>\n",
       "      <td>6.5</td>\n",
       "      <td>...</td>\n",
       "      <td>135.1</td>\n",
       "      <td>0.0</td>\n",
       "      <td>98.875000</td>\n",
       "      <td>1.204471</td>\n",
       "      <td>7.461323</td>\n",
       "      <td>1220</td>\n",
       "      <td>0</td>\n",
       "      <td>0</td>\n",
       "      <td>2</td>\n",
       "      <td>1220</td>\n",
       "    </tr>\n",
       "    <tr>\n",
       "      <th>3</th>\n",
       "      <td>1.625</td>\n",
       "      <td>19.2</td>\n",
       "      <td>153300.0</td>\n",
       "      <td>24.4</td>\n",
       "      <td>8.8</td>\n",
       "      <td>85.2</td>\n",
       "      <td>3.5</td>\n",
       "      <td>3.589286</td>\n",
       "      <td>29.5</td>\n",
       "      <td>9.5</td>\n",
       "      <td>...</td>\n",
       "      <td>118.2</td>\n",
       "      <td>0.0</td>\n",
       "      <td>215.267857</td>\n",
       "      <td>1.382315</td>\n",
       "      <td>3.824155</td>\n",
       "      <td>1247</td>\n",
       "      <td>3</td>\n",
       "      <td>0</td>\n",
       "      <td>24</td>\n",
       "      <td>1247</td>\n",
       "    </tr>\n",
       "    <tr>\n",
       "      <th>4</th>\n",
       "      <td>2.000</td>\n",
       "      <td>25.8</td>\n",
       "      <td>279500.0</td>\n",
       "      <td>46.3</td>\n",
       "      <td>7.0</td>\n",
       "      <td>96.3</td>\n",
       "      <td>1.1</td>\n",
       "      <td>3.000000</td>\n",
       "      <td>14.0</td>\n",
       "      <td>5.6</td>\n",
       "      <td>...</td>\n",
       "      <td>73.5</td>\n",
       "      <td>2.0</td>\n",
       "      <td>84.000000</td>\n",
       "      <td>1.812689</td>\n",
       "      <td>12.947777</td>\n",
       "      <td>1373</td>\n",
       "      <td>0</td>\n",
       "      <td>0</td>\n",
       "      <td>0</td>\n",
       "      <td>1373</td>\n",
       "    </tr>\n",
       "  </tbody>\n",
       "</table>\n",
       "<p>5 rows × 22 columns</p>\n",
       "</div>"
      ],
      "text/plain": [
       "   price  mean_commute_time  median_home_value  percent_bachelors_or_higher  \\\n",
       "0  3.000               28.1           197100.0                         29.2   \n",
       "1  2.500               17.8           174600.0                         28.8   \n",
       "2  1.500               23.7           152000.0                         22.6   \n",
       "3  1.625               19.2           153300.0                         24.4   \n",
       "4  2.000               25.8           279500.0                         46.3   \n",
       "\n",
       "   percent_below_poverty  percent_highschool_or_higher  \\\n",
       "0                    5.4                          92.6   \n",
       "1                    9.0                          90.2   \n",
       "2                    8.6                          88.1   \n",
       "3                    8.8                          85.2   \n",
       "4                    7.0                          96.3   \n",
       "\n",
       "   percent_no_health_insurance    rating  review_count  unemployment_rate  \\\n",
       "0                          3.4  4.500000           2.0                6.9   \n",
       "1                          2.6  4.250000           9.5                7.8   \n",
       "2                          1.7  4.250000          14.5                6.5   \n",
       "3                          3.5  3.589286          29.5                9.5   \n",
       "4                          1.1  3.000000          14.0                5.6   \n",
       "\n",
       "   ...  density  income_category  price_weight  price_weight_contr  \\\n",
       "0  ...    116.4              1.0     27.000000            0.310416   \n",
       "1  ...    339.2              0.0     84.250000            0.188872   \n",
       "2  ...    135.1              0.0     98.875000            1.204471   \n",
       "3  ...    118.2              0.0    215.267857            1.382315   \n",
       "4  ...     73.5              2.0     84.000000            1.812689   \n",
       "\n",
       "   price_weight_contrv2  zip_code  high_price  4_star  1_star  zip_code.1  \n",
       "0             15.520809      1069           1       0       0        1069  \n",
       "1              2.409936      1201           1       0       0        1201  \n",
       "2              7.461323      1220           0       0       2        1220  \n",
       "3              3.824155      1247           3       0      24        1247  \n",
       "4             12.947777      1373           0       0       0        1373  \n",
       "\n",
       "[5 rows x 22 columns]"
      ]
     },
     "execution_count": 5,
     "metadata": {},
     "output_type": "execute_result"
    }
   ],
   "source": [
    "df.head()"
   ]
  },
  {
   "cell_type": "code",
   "execution_count": 6,
   "metadata": {
    "ExecuteTime": {
     "end_time": "2020-02-20T23:17:03.740225Z",
     "start_time": "2020-02-20T23:17:03.733309Z"
    }
   },
   "outputs": [
    {
     "data": {
      "text/plain": [
       "count      3454.000000\n",
       "mean      97833.454545\n",
       "std       92793.691909\n",
       "min        6524.000000\n",
       "25%       39074.750000\n",
       "50%       59641.000000\n",
       "75%      102401.250000\n",
       "max      300000.000000\n",
       "Name: median_household_income, dtype: float64"
      ]
     },
     "execution_count": 6,
     "metadata": {},
     "output_type": "execute_result"
    }
   ],
   "source": [
    "df.median_household_income.describe()"
   ]
  },
  {
   "cell_type": "code",
   "execution_count": 7,
   "metadata": {
    "ExecuteTime": {
     "end_time": "2020-02-20T23:17:03.745004Z",
     "start_time": "2020-02-20T23:17:03.741732Z"
    }
   },
   "outputs": [],
   "source": [
    "def income_map(x):\n",
    "    if x <=39074.75:\n",
    "        return 1\n",
    "    elif x > 39074.75 and x <=59641:\n",
    "        return 2\n",
    "    elif x > 59641 and x <= 102401:\n",
    "        return 3\n",
    "    else:\n",
    "        return 4"
   ]
  },
  {
   "cell_type": "code",
   "execution_count": 8,
   "metadata": {
    "ExecuteTime": {
     "end_time": "2020-02-20T23:17:03.751302Z",
     "start_time": "2020-02-20T23:17:03.748654Z"
    }
   },
   "outputs": [],
   "source": [
    "def income_map2(x):\n",
    "    if x <=59641:\n",
    "        return 1\n",
    "    else:\n",
    "        return 2"
   ]
  },
  {
   "cell_type": "code",
   "execution_count": 9,
   "metadata": {
    "ExecuteTime": {
     "end_time": "2020-02-20T23:17:03.758549Z",
     "start_time": "2020-02-20T23:17:03.753982Z"
    }
   },
   "outputs": [],
   "source": [
    "#creating 4 income categories\n",
    "df[\"inc_cat2\"] = df.median_household_income.apply(income_map)"
   ]
  },
  {
   "cell_type": "code",
   "execution_count": 10,
   "metadata": {
    "ExecuteTime": {
     "end_time": "2020-02-20T23:17:03.764887Z",
     "start_time": "2020-02-20T23:17:03.760181Z"
    }
   },
   "outputs": [],
   "source": [
    "#creating two income categories\n",
    "df[\"inc_cat3\"] = df.median_household_income.apply(income_map2)"
   ]
  },
  {
   "cell_type": "code",
   "execution_count": 11,
   "metadata": {
    "ExecuteTime": {
     "end_time": "2020-02-20T23:17:03.772277Z",
     "start_time": "2020-02-20T23:17:03.766721Z"
    }
   },
   "outputs": [
    {
     "data": {
      "text/plain": [
       "1    864\n",
       "4    864\n",
       "3    863\n",
       "2    863\n",
       "Name: inc_cat2, dtype: int64"
      ]
     },
     "execution_count": 11,
     "metadata": {},
     "output_type": "execute_result"
    }
   ],
   "source": [
    "df[\"inc_cat2\"].value_counts()"
   ]
  },
  {
   "cell_type": "code",
   "execution_count": 12,
   "metadata": {
    "ExecuteTime": {
     "end_time": "2020-02-20T23:17:03.780293Z",
     "start_time": "2020-02-20T23:17:03.774410Z"
    }
   },
   "outputs": [
    {
     "data": {
      "text/plain": [
       "Index(['price', 'mean_commute_time', 'median_home_value',\n",
       "       'percent_bachelors_or_higher', 'percent_below_poverty',\n",
       "       'percent_highschool_or_higher', 'percent_no_health_insurance', 'rating',\n",
       "       'review_count', 'unemployment_rate', 'median_household_income',\n",
       "       'population', 'density', 'income_category', 'price_weight',\n",
       "       'price_weight_contr', 'price_weight_contrv2', 'zip_code', 'high_price',\n",
       "       '4_star', '1_star', 'zip_code.1', 'inc_cat2', 'inc_cat3'],\n",
       "      dtype='object')"
      ]
     },
     "execution_count": 12,
     "metadata": {},
     "output_type": "execute_result"
    }
   ],
   "source": [
    "df.columns"
   ]
  },
  {
   "cell_type": "code",
   "execution_count": 13,
   "metadata": {
    "ExecuteTime": {
     "end_time": "2020-02-20T23:17:03.887500Z",
     "start_time": "2020-02-20T23:17:03.782880Z"
    }
   },
   "outputs": [],
   "source": [
    "df.to_csv(\"./Data/final_agg.csv\", index = False)"
   ]
  },
  {
   "cell_type": "code",
   "execution_count": 14,
   "metadata": {
    "ExecuteTime": {
     "end_time": "2020-02-20T23:17:03.900515Z",
     "start_time": "2020-02-20T23:17:03.889812Z"
    }
   },
   "outputs": [
    {
     "data": {
      "text/plain": [
       "inc_cat3                        1.000000\n",
       "inc_cat2                        0.894479\n",
       "income_category                 0.857180\n",
       "median_household_income         0.642145\n",
       "percent_bachelors_or_higher     0.430284\n",
       "percent_highschool_or_higher    0.382164\n",
       "median_home_value               0.366727\n",
       "mean_commute_time               0.220724\n",
       "price                           0.156595\n",
       "rating                          0.066554\n",
       "price_weight                    0.051790\n",
       "review_count                    0.045981\n",
       "population                      0.035331\n",
       "price_weight_contr              0.026868\n",
       "zip_code                        0.007283\n",
       "zip_code.1                      0.007283\n",
       "price_weight_contrv2            0.006476\n",
       "4_star                         -0.000369\n",
       "high_price                     -0.017584\n",
       "density                        -0.019777\n",
       "1_star                         -0.118702\n",
       "percent_no_health_insurance    -0.363933\n",
       "unemployment_rate              -0.370802\n",
       "percent_below_poverty          -0.373598\n",
       "Name: inc_cat3, dtype: float64"
      ]
     },
     "execution_count": 14,
     "metadata": {},
     "output_type": "execute_result"
    }
   ],
   "source": [
    "corr = df.corr()\n",
    "corr['inc_cat3'].sort_values(ascending = False)"
   ]
  },
  {
   "cell_type": "markdown",
   "metadata": {},
   "source": [
    "## Modeling"
   ]
  },
  {
   "cell_type": "code",
   "execution_count": 15,
   "metadata": {
    "ExecuteTime": {
     "end_time": "2020-02-20T23:17:03.906011Z",
     "start_time": "2020-02-20T23:17:03.902407Z"
    }
   },
   "outputs": [],
   "source": [
    "x = df[['price_weight_contrv2', 'high_price', '4_star', 'price', 'rating', \"1_star\"]]\n",
    "y = df[\"inc_cat3\"]"
   ]
  },
  {
   "cell_type": "code",
   "execution_count": 16,
   "metadata": {
    "ExecuteTime": {
     "end_time": "2020-02-20T23:17:03.913477Z",
     "start_time": "2020-02-20T23:17:03.907865Z"
    }
   },
   "outputs": [],
   "source": [
    "x_train, x_test, y_train, y_test = train_test_split(x, y, random_state = 13)"
   ]
  },
  {
   "cell_type": "code",
   "execution_count": 17,
   "metadata": {
    "ExecuteTime": {
     "end_time": "2020-02-20T23:17:03.918524Z",
     "start_time": "2020-02-20T23:17:03.915539Z"
    }
   },
   "outputs": [],
   "source": [
    "models = [LogisticRegression, KNeighborsClassifier, SVC, DecisionTreeClassifier, AdaBoostClassifier, BaggingClassifier, RandomForestClassifier]"
   ]
  },
  {
   "cell_type": "code",
   "execution_count": 18,
   "metadata": {
    "ExecuteTime": {
     "end_time": "2020-02-20T23:17:03.924659Z",
     "start_time": "2020-02-20T23:17:03.920473Z"
    }
   },
   "outputs": [],
   "source": [
    "def model_fit_score(model):\n",
    "    model = model()\n",
    "    model.fit(x_train, y_train)\n",
    "    train_score = model.score(x_train, y_train)\n",
    "    test_score = model.score(x_test, y_test)\n",
    "    print(f'model: {str(model)}, train_score: {train_score}, test_score: {test_score}')"
   ]
  },
  {
   "cell_type": "code",
   "execution_count": 19,
   "metadata": {
    "ExecuteTime": {
     "end_time": "2020-02-20T23:17:04.876048Z",
     "start_time": "2020-02-20T23:17:03.927119Z"
    }
   },
   "outputs": [
    {
     "name": "stderr",
     "output_type": "stream",
     "text": [
      "/opt/anaconda3/lib/python3.7/site-packages/sklearn/linear_model/logistic.py:432: FutureWarning: Default solver will be changed to 'lbfgs' in 0.22. Specify a solver to silence this warning.\n",
      "  FutureWarning)\n"
     ]
    },
    {
     "name": "stdout",
     "output_type": "stream",
     "text": [
      "model: LogisticRegression(C=1.0, class_weight=None, dual=False, fit_intercept=True,\n",
      "                   intercept_scaling=1, l1_ratio=None, max_iter=100,\n",
      "                   multi_class='warn', n_jobs=None, penalty='l2',\n",
      "                   random_state=None, solver='warn', tol=0.0001, verbose=0,\n",
      "                   warm_start=False), train_score: 0.5992277992277992, test_score: 0.5775462962962963\n",
      "model: KNeighborsClassifier(algorithm='auto', leaf_size=30, metric='minkowski',\n",
      "                     metric_params=None, n_jobs=None, n_neighbors=5, p=2,\n",
      "                     weights='uniform'), train_score: 0.7231660231660232, test_score: 0.5358796296296297\n"
     ]
    },
    {
     "name": "stderr",
     "output_type": "stream",
     "text": [
      "/opt/anaconda3/lib/python3.7/site-packages/sklearn/svm/base.py:193: FutureWarning: The default value of gamma will change from 'auto' to 'scale' in version 0.22 to account better for unscaled features. Set gamma explicitly to 'auto' or 'scale' to avoid this warning.\n",
      "  \"avoid this warning.\", FutureWarning)\n"
     ]
    },
    {
     "name": "stdout",
     "output_type": "stream",
     "text": [
      "model: SVC(C=1.0, cache_size=200, class_weight=None, coef0=0.0,\n",
      "    decision_function_shape='ovr', degree=3, gamma='auto_deprecated',\n",
      "    kernel='rbf', max_iter=-1, probability=False, random_state=None,\n",
      "    shrinking=True, tol=0.001, verbose=False), train_score: 0.6694980694980694, test_score: 0.5763888888888888\n",
      "model: DecisionTreeClassifier(class_weight=None, criterion='gini', max_depth=None,\n",
      "                       max_features=None, max_leaf_nodes=None,\n",
      "                       min_impurity_decrease=0.0, min_impurity_split=None,\n",
      "                       min_samples_leaf=1, min_samples_split=2,\n",
      "                       min_weight_fraction_leaf=0.0, presort=False,\n",
      "                       random_state=None, splitter='best'), train_score: 1.0, test_score: 0.5127314814814815\n",
      "model: AdaBoostClassifier(algorithm='SAMME.R', base_estimator=None, learning_rate=1.0,\n",
      "                   n_estimators=50, random_state=None), train_score: 0.635907335907336, test_score: 0.5729166666666666\n",
      "model: BaggingClassifier(base_estimator=None, bootstrap=True, bootstrap_features=False,\n",
      "                  max_features=1.0, max_samples=1.0, n_estimators=10,\n",
      "                  n_jobs=None, oob_score=False, random_state=None, verbose=0,\n",
      "                  warm_start=False), train_score: 0.9745173745173745, test_score: 0.5694444444444444\n",
      "model: RandomForestClassifier(bootstrap=True, class_weight=None, criterion='gini',\n",
      "                       max_depth=None, max_features='auto', max_leaf_nodes=None,\n",
      "                       min_impurity_decrease=0.0, min_impurity_split=None,\n",
      "                       min_samples_leaf=1, min_samples_split=2,\n",
      "                       min_weight_fraction_leaf=0.0, n_estimators=10,\n",
      "                       n_jobs=None, oob_score=False, random_state=None,\n",
      "                       verbose=0, warm_start=False), train_score: 0.9764478764478765, test_score: 0.5300925925925926\n"
     ]
    },
    {
     "name": "stderr",
     "output_type": "stream",
     "text": [
      "/opt/anaconda3/lib/python3.7/site-packages/sklearn/ensemble/forest.py:245: FutureWarning: The default value of n_estimators will change from 10 in version 0.20 to 100 in 0.22.\n",
      "  \"10 in version 0.20 to 100 in 0.22.\", FutureWarning)\n"
     ]
    }
   ],
   "source": [
    "for model in models:\n",
    "    model_fit_score(model)"
   ]
  },
  {
   "cell_type": "markdown",
   "metadata": {},
   "source": [
    "##  Gridsearch"
   ]
  },
  {
   "cell_type": "code",
   "execution_count": 20,
   "metadata": {
    "ExecuteTime": {
     "end_time": "2020-02-20T23:17:04.880454Z",
     "start_time": "2020-02-20T23:17:04.877809Z"
    }
   },
   "outputs": [],
   "source": [
    "from sklearn.model_selection import GridSearchCV"
   ]
  },
  {
   "cell_type": "code",
   "execution_count": 21,
   "metadata": {
    "ExecuteTime": {
     "end_time": "2020-02-20T23:18:01.004721Z",
     "start_time": "2020-02-20T23:17:04.882440Z"
    }
   },
   "outputs": [
    {
     "data": {
      "text/plain": [
       "GridSearchCV(cv=3, error_score='raise-deprecating',\n",
       "             estimator=RandomForestClassifier(bootstrap=True, class_weight=None,\n",
       "                                              criterion='gini', max_depth=None,\n",
       "                                              max_features='auto',\n",
       "                                              max_leaf_nodes=None,\n",
       "                                              min_impurity_decrease=0.0,\n",
       "                                              min_impurity_split=None,\n",
       "                                              min_samples_leaf=1,\n",
       "                                              min_samples_split=2,\n",
       "                                              min_weight_fraction_leaf=0.0,\n",
       "                                              n_estimators='warn', n_jobs=None,\n",
       "                                              oob_score=False,\n",
       "                                              random_state=None, verbose=0,\n",
       "                                              warm_start=False),\n",
       "             iid='warn', n_jobs=-1,\n",
       "             param_grid={'bootstrap': [True], 'max_depth': [80, 90, 100],\n",
       "                         'max_features': [2, 3], 'min_samples_leaf': [3, 4, 5],\n",
       "                         'min_samples_split': [8, 10, 12],\n",
       "                         'n_estimators': [100, 200, 300]},\n",
       "             pre_dispatch='2*n_jobs', refit=True, return_train_score=False,\n",
       "             scoring=None, verbose=0)"
      ]
     },
     "execution_count": 21,
     "metadata": {},
     "output_type": "execute_result"
    }
   ],
   "source": [
    "rf = RandomForestClassifier()\n",
    "param_grid = {\n",
    "    'bootstrap': [True],\n",
    "    'max_depth': [80, 90, 100],\n",
    "    'max_features': [2, 3],\n",
    "    'min_samples_leaf': [3, 4, 5],\n",
    "    'min_samples_split': [8, 10, 12],\n",
    "    'n_estimators': [100, 200, 300]\n",
    "}\n",
    "\n",
    "grid_search = GridSearchCV(estimator = RandomForestClassifier(), param_grid = param_grid,\n",
    "                          cv = 3, n_jobs = -1)\n",
    "\n",
    "grid_search.fit(x_train, y_train)"
   ]
  },
  {
   "cell_type": "code",
   "execution_count": 22,
   "metadata": {
    "ExecuteTime": {
     "end_time": "2020-02-20T23:18:01.012449Z",
     "start_time": "2020-02-20T23:18:01.006980Z"
    }
   },
   "outputs": [
    {
     "data": {
      "text/plain": [
       "0.6154440154440154"
      ]
     },
     "execution_count": 22,
     "metadata": {},
     "output_type": "execute_result"
    }
   ],
   "source": [
    "grid_search.best_score_"
   ]
  },
  {
   "cell_type": "code",
   "execution_count": 23,
   "metadata": {
    "ExecuteTime": {
     "end_time": "2020-02-20T23:18:02.123397Z",
     "start_time": "2020-02-20T23:18:01.019347Z"
    }
   },
   "outputs": [
    {
     "data": {
      "text/plain": [
       "GridSearchCV(cv=3, error_score='raise-deprecating',\n",
       "             estimator=AdaBoostClassifier(algorithm='SAMME.R',\n",
       "                                          base_estimator=None,\n",
       "                                          learning_rate=1.0, n_estimators=50,\n",
       "                                          random_state=None),\n",
       "             iid='warn', n_jobs=-1,\n",
       "             param_grid={'n_estimators': [50, 75, 100, 200]},\n",
       "             pre_dispatch='2*n_jobs', refit=True, return_train_score=False,\n",
       "             scoring=None, verbose=0)"
      ]
     },
     "execution_count": 23,
     "metadata": {},
     "output_type": "execute_result"
    }
   ],
   "source": [
    "param_grid = {\n",
    "    'n_estimators': [50, 75, 100, 200]\n",
    "}\n",
    "\n",
    "grid_search = GridSearchCV(estimator = AdaBoostClassifier(), param_grid = param_grid,\n",
    "                          cv = 3, n_jobs = -1)\n",
    "\n",
    "grid_search.fit(x_train, y_train)"
   ]
  },
  {
   "cell_type": "code",
   "execution_count": 24,
   "metadata": {
    "ExecuteTime": {
     "end_time": "2020-02-20T23:18:02.130450Z",
     "start_time": "2020-02-20T23:18:02.127021Z"
    }
   },
   "outputs": [
    {
     "data": {
      "text/plain": [
       "0.6054054054054054"
      ]
     },
     "execution_count": 24,
     "metadata": {},
     "output_type": "execute_result"
    }
   ],
   "source": [
    "grid_search.best_score_"
   ]
  },
  {
   "cell_type": "code",
   "execution_count": 25,
   "metadata": {
    "ExecuteTime": {
     "end_time": "2020-02-20T23:18:02.136269Z",
     "start_time": "2020-02-20T23:18:02.132517Z"
    }
   },
   "outputs": [
    {
     "data": {
      "text/plain": [
       "AdaBoostClassifier(algorithm='SAMME.R', base_estimator=None, learning_rate=1.0,\n",
       "                   n_estimators=75, random_state=None)"
      ]
     },
     "execution_count": 25,
     "metadata": {},
     "output_type": "execute_result"
    }
   ],
   "source": [
    "grid_search.best_estimator_"
   ]
  },
  {
   "cell_type": "code",
   "execution_count": 26,
   "metadata": {
    "ExecuteTime": {
     "end_time": "2020-02-20T23:18:02.366437Z",
     "start_time": "2020-02-20T23:18:02.138300Z"
    }
   },
   "outputs": [
    {
     "data": {
      "text/plain": [
       "0.6393822393822394"
      ]
     },
     "execution_count": 26,
     "metadata": {},
     "output_type": "execute_result"
    }
   ],
   "source": [
    "ada = AdaBoostClassifier(n_estimators=75)\n",
    "ada.fit(x_train, y_train)\n",
    "ada.score(x_train, y_train)"
   ]
  },
  {
   "cell_type": "code",
   "execution_count": 27,
   "metadata": {
    "ExecuteTime": {
     "end_time": "2020-02-20T23:18:02.370119Z",
     "start_time": "2020-02-20T23:18:02.368107Z"
    }
   },
   "outputs": [],
   "source": [
    "#best score 63.3% accuracy with adaboost, 75 estimators"
   ]
  },
  {
   "cell_type": "code",
   "execution_count": 28,
   "metadata": {
    "ExecuteTime": {
     "end_time": "2020-02-20T23:18:02.389983Z",
     "start_time": "2020-02-20T23:18:02.371696Z"
    }
   },
   "outputs": [],
   "source": [
    "preds = ada.predict(x_test)"
   ]
  },
  {
   "cell_type": "code",
   "execution_count": 29,
   "metadata": {
    "ExecuteTime": {
     "end_time": "2020-02-20T23:18:02.425634Z",
     "start_time": "2020-02-20T23:18:02.392196Z"
    }
   },
   "outputs": [],
   "source": [
    "pred_proba = ada.predict_proba(x_test)"
   ]
  },
  {
   "cell_type": "code",
   "execution_count": 30,
   "metadata": {
    "ExecuteTime": {
     "end_time": "2020-02-20T23:18:02.666612Z",
     "start_time": "2020-02-20T23:18:02.430907Z"
    }
   },
   "outputs": [
    {
     "data": {
      "image/png": "[encoded data removed]",
      "text/plain": [
       "<Figure size 432x288 with 1 Axes>"
      ]
     },
     "metadata": {
      "needs_background": "light"
     },
     "output_type": "display_data"
    }
   ],
   "source": [
    "plt.hist(pred_proba);"
   ]
  },
  {
   "cell_type": "markdown",
   "metadata": {
    "ExecuteTime": {
     "end_time": "2020-02-20T20:16:16.060817Z",
     "start_time": "2020-02-20T20:16:16.058438Z"
    }
   },
   "source": [
    "# Reading in NAICS data to get number of establishments"
   ]
  },
  {
   "cell_type": "code",
   "execution_count": 31,
   "metadata": {
    "ExecuteTime": {
     "end_time": "2020-02-20T23:18:02.782874Z",
     "start_time": "2020-02-20T23:18:02.668868Z"
    }
   },
   "outputs": [],
   "source": [
    "naics = pd.read_csv(\"./Data/naics.csv\")"
   ]
  },
  {
   "cell_type": "code",
   "execution_count": 32,
   "metadata": {
    "ExecuteTime": {
     "end_time": "2020-02-20T23:18:02.797670Z",
     "start_time": "2020-02-20T23:18:02.785912Z"
    }
   },
   "outputs": [],
   "source": [
    "naics = naics[['Id2', \"Number of establishments\"]]"
   ]
  },
  {
   "cell_type": "code",
   "execution_count": 33,
   "metadata": {
    "ExecuteTime": {
     "end_time": "2020-02-20T23:18:02.804730Z",
     "start_time": "2020-02-20T23:18:02.799984Z"
    }
   },
   "outputs": [],
   "source": [
    "naics = naics.set_index(\"Id2\")"
   ]
  },
  {
   "cell_type": "code",
   "execution_count": 34,
   "metadata": {
    "ExecuteTime": {
     "end_time": "2020-02-20T23:18:02.814828Z",
     "start_time": "2020-02-20T23:18:02.807360Z"
    }
   },
   "outputs": [],
   "source": [
    "w_n_est = df.merge(naics, left_index = True, right_index = True)"
   ]
  },
  {
   "cell_type": "code",
   "execution_count": 35,
   "metadata": {
    "ExecuteTime": {
     "end_time": "2020-02-20T23:18:02.857019Z",
     "start_time": "2020-02-20T23:18:02.817080Z"
    }
   },
   "outputs": [
    {
     "data": {
      "text/html": [
       "<div>\n",
       "<style scoped>\n",
       "    .dataframe tbody tr th:only-of-type {\n",
       "        vertical-align: middle;\n",
       "    }\n",
       "\n",
       "    .dataframe tbody tr th {\n",
       "        vertical-align: top;\n",
       "    }\n",
       "\n",
       "    .dataframe thead th {\n",
       "        text-align: right;\n",
       "    }\n",
       "</style>\n",
       "<table border=\"1\" class=\"dataframe\">\n",
       "  <thead>\n",
       "    <tr style=\"text-align: right;\">\n",
       "      <th></th>\n",
       "      <th>price</th>\n",
       "      <th>mean_commute_time</th>\n",
       "      <th>median_home_value</th>\n",
       "      <th>percent_bachelors_or_higher</th>\n",
       "      <th>percent_below_poverty</th>\n",
       "      <th>percent_highschool_or_higher</th>\n",
       "      <th>percent_no_health_insurance</th>\n",
       "      <th>rating</th>\n",
       "      <th>review_count</th>\n",
       "      <th>unemployment_rate</th>\n",
       "      <th>...</th>\n",
       "      <th>price_weight_contr</th>\n",
       "      <th>price_weight_contrv2</th>\n",
       "      <th>zip_code</th>\n",
       "      <th>high_price</th>\n",
       "      <th>4_star</th>\n",
       "      <th>1_star</th>\n",
       "      <th>zip_code.1</th>\n",
       "      <th>inc_cat2</th>\n",
       "      <th>inc_cat3</th>\n",
       "      <th>Number of establishments</th>\n",
       "    </tr>\n",
       "  </thead>\n",
       "  <tbody>\n",
       "    <tr>\n",
       "      <th>501</th>\n",
       "      <td>1.708333</td>\n",
       "      <td>24.6</td>\n",
       "      <td>180900.0</td>\n",
       "      <td>44.9</td>\n",
       "      <td>4.9</td>\n",
       "      <td>93.5</td>\n",
       "      <td>4.1</td>\n",
       "      <td>3.433333</td>\n",
       "      <td>27.758333</td>\n",
       "      <td>4.7</td>\n",
       "      <td>...</td>\n",
       "      <td>0.424514</td>\n",
       "      <td>1.417855</td>\n",
       "      <td>15108</td>\n",
       "      <td>4</td>\n",
       "      <td>1</td>\n",
       "      <td>40</td>\n",
       "      <td>15108</td>\n",
       "      <td>3</td>\n",
       "      <td>2</td>\n",
       "      <td>2</td>\n",
       "    </tr>\n",
       "    <tr>\n",
       "      <th>1001</th>\n",
       "      <td>2.000000</td>\n",
       "      <td>25.4</td>\n",
       "      <td>473300.0</td>\n",
       "      <td>60.1</td>\n",
       "      <td>5.9</td>\n",
       "      <td>98.5</td>\n",
       "      <td>5.0</td>\n",
       "      <td>4.000000</td>\n",
       "      <td>17.000000</td>\n",
       "      <td>4.8</td>\n",
       "      <td>...</td>\n",
       "      <td>0.440158</td>\n",
       "      <td>2.589164</td>\n",
       "      <td>32082</td>\n",
       "      <td>0</td>\n",
       "      <td>0</td>\n",
       "      <td>0</td>\n",
       "      <td>32082</td>\n",
       "      <td>4</td>\n",
       "      <td>2</td>\n",
       "      <td>472</td>\n",
       "    </tr>\n",
       "    <tr>\n",
       "      <th>1002</th>\n",
       "      <td>2.000000</td>\n",
       "      <td>29.7</td>\n",
       "      <td>263900.0</td>\n",
       "      <td>42.2</td>\n",
       "      <td>0.7</td>\n",
       "      <td>92.9</td>\n",
       "      <td>7.4</td>\n",
       "      <td>4.500000</td>\n",
       "      <td>71.000000</td>\n",
       "      <td>3.9</td>\n",
       "      <td>...</td>\n",
       "      <td>1.844582</td>\n",
       "      <td>2.598002</td>\n",
       "      <td>32092</td>\n",
       "      <td>0</td>\n",
       "      <td>0</td>\n",
       "      <td>0</td>\n",
       "      <td>32092</td>\n",
       "      <td>2</td>\n",
       "      <td>1</td>\n",
       "      <td>564</td>\n",
       "    </tr>\n",
       "    <tr>\n",
       "      <th>1003</th>\n",
       "      <td>1.726667</td>\n",
       "      <td>20.0</td>\n",
       "      <td>149100.0</td>\n",
       "      <td>31.9</td>\n",
       "      <td>12.0</td>\n",
       "      <td>86.1</td>\n",
       "      <td>16.1</td>\n",
       "      <td>3.770000</td>\n",
       "      <td>80.106667</td>\n",
       "      <td>5.0</td>\n",
       "      <td>...</td>\n",
       "      <td>1.728671</td>\n",
       "      <td>1.817153</td>\n",
       "      <td>32207</td>\n",
       "      <td>13</td>\n",
       "      <td>2</td>\n",
       "      <td>56</td>\n",
       "      <td>32207</td>\n",
       "      <td>1</td>\n",
       "      <td>1</td>\n",
       "      <td>21</td>\n",
       "    </tr>\n",
       "    <tr>\n",
       "      <th>1004</th>\n",
       "      <td>1.000000</td>\n",
       "      <td>25.9</td>\n",
       "      <td>60800.0</td>\n",
       "      <td>9.6</td>\n",
       "      <td>25.1</td>\n",
       "      <td>78.3</td>\n",
       "      <td>12.3</td>\n",
       "      <td>4.500000</td>\n",
       "      <td>54.000000</td>\n",
       "      <td>12.8</td>\n",
       "      <td>...</td>\n",
       "      <td>0.685743</td>\n",
       "      <td>1.269895</td>\n",
       "      <td>32209</td>\n",
       "      <td>0</td>\n",
       "      <td>0</td>\n",
       "      <td>1</td>\n",
       "      <td>32209</td>\n",
       "      <td>1</td>\n",
       "      <td>1</td>\n",
       "      <td>14</td>\n",
       "    </tr>\n",
       "    <tr>\n",
       "      <th>...</th>\n",
       "      <td>...</td>\n",
       "      <td>...</td>\n",
       "      <td>...</td>\n",
       "      <td>...</td>\n",
       "      <td>...</td>\n",
       "      <td>...</td>\n",
       "      <td>...</td>\n",
       "      <td>...</td>\n",
       "      <td>...</td>\n",
       "      <td>...</td>\n",
       "      <td>...</td>\n",
       "      <td>...</td>\n",
       "      <td>...</td>\n",
       "      <td>...</td>\n",
       "      <td>...</td>\n",
       "      <td>...</td>\n",
       "      <td>...</td>\n",
       "      <td>...</td>\n",
       "      <td>...</td>\n",
       "      <td>...</td>\n",
       "      <td>...</td>\n",
       "    </tr>\n",
       "    <tr>\n",
       "      <th>3448</th>\n",
       "      <td>1.789474</td>\n",
       "      <td>18.0</td>\n",
       "      <td>261000.0</td>\n",
       "      <td>29.0</td>\n",
       "      <td>4.7</td>\n",
       "      <td>90.2</td>\n",
       "      <td>15.7</td>\n",
       "      <td>3.605263</td>\n",
       "      <td>54.263158</td>\n",
       "      <td>7.4</td>\n",
       "      <td>...</td>\n",
       "      <td>1.109616</td>\n",
       "      <td>1.832977</td>\n",
       "      <td>99508</td>\n",
       "      <td>0</td>\n",
       "      <td>0</td>\n",
       "      <td>4</td>\n",
       "      <td>99508</td>\n",
       "      <td>2</td>\n",
       "      <td>1</td>\n",
       "      <td>16</td>\n",
       "    </tr>\n",
       "    <tr>\n",
       "      <th>3449</th>\n",
       "      <td>1.917808</td>\n",
       "      <td>16.9</td>\n",
       "      <td>315600.0</td>\n",
       "      <td>32.5</td>\n",
       "      <td>10.2</td>\n",
       "      <td>93.1</td>\n",
       "      <td>12.5</td>\n",
       "      <td>3.479452</td>\n",
       "      <td>61.493151</td>\n",
       "      <td>5.0</td>\n",
       "      <td>...</td>\n",
       "      <td>1.815382</td>\n",
       "      <td>2.841930</td>\n",
       "      <td>99515</td>\n",
       "      <td>5</td>\n",
       "      <td>0</td>\n",
       "      <td>11</td>\n",
       "      <td>99515</td>\n",
       "      <td>4</td>\n",
       "      <td>2</td>\n",
       "      <td>40</td>\n",
       "    </tr>\n",
       "    <tr>\n",
       "      <th>3450</th>\n",
       "      <td>1.888889</td>\n",
       "      <td>17.1</td>\n",
       "      <td>304100.0</td>\n",
       "      <td>36.0</td>\n",
       "      <td>2.5</td>\n",
       "      <td>93.0</td>\n",
       "      <td>17.2</td>\n",
       "      <td>3.944444</td>\n",
       "      <td>52.444444</td>\n",
       "      <td>5.8</td>\n",
       "      <td>...</td>\n",
       "      <td>2.466728</td>\n",
       "      <td>4.504047</td>\n",
       "      <td>99517</td>\n",
       "      <td>0</td>\n",
       "      <td>0</td>\n",
       "      <td>1</td>\n",
       "      <td>99517</td>\n",
       "      <td>4</td>\n",
       "      <td>2</td>\n",
       "      <td>17</td>\n",
       "    </tr>\n",
       "    <tr>\n",
       "      <th>3451</th>\n",
       "      <td>1.800000</td>\n",
       "      <td>16.0</td>\n",
       "      <td>253200.0</td>\n",
       "      <td>29.3</td>\n",
       "      <td>1.0</td>\n",
       "      <td>93.8</td>\n",
       "      <td>17.2</td>\n",
       "      <td>3.542857</td>\n",
       "      <td>55.000000</td>\n",
       "      <td>3.9</td>\n",
       "      <td>...</td>\n",
       "      <td>3.208066</td>\n",
       "      <td>5.946685</td>\n",
       "      <td>99518</td>\n",
       "      <td>3</td>\n",
       "      <td>0</td>\n",
       "      <td>10</td>\n",
       "      <td>99518</td>\n",
       "      <td>3</td>\n",
       "      <td>2</td>\n",
       "      <td>55</td>\n",
       "    </tr>\n",
       "    <tr>\n",
       "      <th>3452</th>\n",
       "      <td>2.000000</td>\n",
       "      <td>32.6</td>\n",
       "      <td>247200.0</td>\n",
       "      <td>26.0</td>\n",
       "      <td>6.2</td>\n",
       "      <td>93.6</td>\n",
       "      <td>14.9</td>\n",
       "      <td>5.000000</td>\n",
       "      <td>22.000000</td>\n",
       "      <td>8.3</td>\n",
       "      <td>...</td>\n",
       "      <td>0.722496</td>\n",
       "      <td>3.284072</td>\n",
       "      <td>99645</td>\n",
       "      <td>0</td>\n",
       "      <td>0</td>\n",
       "      <td>0</td>\n",
       "      <td>99645</td>\n",
       "      <td>3</td>\n",
       "      <td>2</td>\n",
       "      <td>158</td>\n",
       "    </tr>\n",
       "  </tbody>\n",
       "</table>\n",
       "<p>884 rows × 25 columns</p>\n",
       "</div>"
      ],
      "text/plain": [
       "         price  mean_commute_time  median_home_value  \\\n",
       "501   1.708333               24.6           180900.0   \n",
       "1001  2.000000               25.4           473300.0   \n",
       "1002  2.000000               29.7           263900.0   \n",
       "1003  1.726667               20.0           149100.0   \n",
       "1004  1.000000               25.9            60800.0   \n",
       "...        ...                ...                ...   \n",
       "3448  1.789474               18.0           261000.0   \n",
       "3449  1.917808               16.9           315600.0   \n",
       "3450  1.888889               17.1           304100.0   \n",
       "3451  1.800000               16.0           253200.0   \n",
       "3452  2.000000               32.6           247200.0   \n",
       "\n",
       "      percent_bachelors_or_higher  percent_below_poverty  \\\n",
       "501                          44.9                    4.9   \n",
       "1001                         60.1                    5.9   \n",
       "1002                         42.2                    0.7   \n",
       "1003                         31.9                   12.0   \n",
       "1004                          9.6                   25.1   \n",
       "...                           ...                    ...   \n",
       "3448                         29.0                    4.7   \n",
       "3449                         32.5                   10.2   \n",
       "3450                         36.0                    2.5   \n",
       "3451                         29.3                    1.0   \n",
       "3452                         26.0                    6.2   \n",
       "\n",
       "      percent_highschool_or_higher  percent_no_health_insurance    rating  \\\n",
       "501                           93.5                          4.1  3.433333   \n",
       "1001                          98.5                          5.0  4.000000   \n",
       "1002                          92.9                          7.4  4.500000   \n",
       "1003                          86.1                         16.1  3.770000   \n",
       "1004                          78.3                         12.3  4.500000   \n",
       "...                            ...                          ...       ...   \n",
       "3448                          90.2                         15.7  3.605263   \n",
       "3449                          93.1                         12.5  3.479452   \n",
       "3450                          93.0                         17.2  3.944444   \n",
       "3451                          93.8                         17.2  3.542857   \n",
       "3452                          93.6                         14.9  5.000000   \n",
       "\n",
       "      review_count  unemployment_rate  ...  price_weight_contr  \\\n",
       "501      27.758333                4.7  ...            0.424514   \n",
       "1001     17.000000                4.8  ...            0.440158   \n",
       "1002     71.000000                3.9  ...            1.844582   \n",
       "1003     80.106667                5.0  ...            1.728671   \n",
       "1004     54.000000               12.8  ...            0.685743   \n",
       "...            ...                ...  ...                 ...   \n",
       "3448     54.263158                7.4  ...            1.109616   \n",
       "3449     61.493151                5.0  ...            1.815382   \n",
       "3450     52.444444                5.8  ...            2.466728   \n",
       "3451     55.000000                3.9  ...            3.208066   \n",
       "3452     22.000000                8.3  ...            0.722496   \n",
       "\n",
       "      price_weight_contrv2  zip_code  high_price  4_star  1_star  zip_code.1  \\\n",
       "501               1.417855     15108           4       1      40       15108   \n",
       "1001              2.589164     32082           0       0       0       32082   \n",
       "1002              2.598002     32092           0       0       0       32092   \n",
       "1003              1.817153     32207          13       2      56       32207   \n",
       "1004              1.269895     32209           0       0       1       32209   \n",
       "...                    ...       ...         ...     ...     ...         ...   \n",
       "3448              1.832977     99508           0       0       4       99508   \n",
       "3449              2.841930     99515           5       0      11       99515   \n",
       "3450              4.504047     99517           0       0       1       99517   \n",
       "3451              5.946685     99518           3       0      10       99518   \n",
       "3452              3.284072     99645           0       0       0       99645   \n",
       "\n",
       "      inc_cat2  inc_cat3  Number of establishments  \n",
       "501          3         2                         2  \n",
       "1001         4         2                       472  \n",
       "1002         2         1                       564  \n",
       "1003         1         1                        21  \n",
       "1004         1         1                        14  \n",
       "...        ...       ...                       ...  \n",
       "3448         2         1                        16  \n",
       "3449         4         2                        40  \n",
       "3450         4         2                        17  \n",
       "3451         3         2                        55  \n",
       "3452         3         2                       158  \n",
       "\n",
       "[884 rows x 25 columns]"
      ]
     },
     "execution_count": 35,
     "metadata": {},
     "output_type": "execute_result"
    }
   ],
   "source": [
    "w_n_est"
   ]
  },
  {
   "cell_type": "code",
   "execution_count": 36,
   "metadata": {
    "ExecuteTime": {
     "end_time": "2020-02-20T23:18:03.155307Z",
     "start_time": "2020-02-20T23:18:02.859684Z"
    }
   },
   "outputs": [
    {
     "name": "stderr",
     "output_type": "stream",
     "text": [
      "/opt/anaconda3/lib/python3.7/site-packages/sklearn/linear_model/logistic.py:432: FutureWarning: Default solver will be changed to 'lbfgs' in 0.22. Specify a solver to silence this warning.\n",
      "  FutureWarning)\n",
      "/opt/anaconda3/lib/python3.7/site-packages/sklearn/svm/base.py:193: FutureWarning: The default value of gamma will change from 'auto' to 'scale' in version 0.22 to account better for unscaled features. Set gamma explicitly to 'auto' or 'scale' to avoid this warning.\n",
      "  \"avoid this warning.\", FutureWarning)\n"
     ]
    },
    {
     "name": "stdout",
     "output_type": "stream",
     "text": [
      "model: LogisticRegression(C=1.0, class_weight=None, dual=False, fit_intercept=True,\n",
      "                   intercept_scaling=1, l1_ratio=None, max_iter=100,\n",
      "                   multi_class='warn', n_jobs=None, penalty='l2',\n",
      "                   random_state=None, solver='warn', tol=0.0001, verbose=0,\n",
      "                   warm_start=False), train_score: 0.5822021116138764, test_score: 0.583710407239819\n",
      "model: KNeighborsClassifier(algorithm='auto', leaf_size=30, metric='minkowski',\n",
      "                     metric_params=None, n_jobs=None, n_neighbors=5, p=2,\n",
      "                     weights='uniform'), train_score: 0.698340874811463, test_score: 0.4796380090497738\n",
      "model: SVC(C=1.0, cache_size=200, class_weight=None, coef0=0.0,\n",
      "    decision_function_shape='ovr', degree=3, gamma='auto_deprecated',\n",
      "    kernel='rbf', max_iter=-1, probability=False, random_state=None,\n",
      "    shrinking=True, tol=0.001, verbose=False), train_score: 0.9547511312217195, test_score: 0.5339366515837104\n",
      "model: DecisionTreeClassifier(class_weight=None, criterion='gini', max_depth=None,\n",
      "                       max_features=None, max_leaf_nodes=None,\n",
      "                       min_impurity_decrease=0.0, min_impurity_split=None,\n",
      "                       min_samples_leaf=1, min_samples_split=2,\n",
      "                       min_weight_fraction_leaf=0.0, presort=False,\n",
      "                       random_state=None, splitter='best'), train_score: 1.0, test_score: 0.5203619909502263\n",
      "model: AdaBoostClassifier(algorithm='SAMME.R', base_estimator=None, learning_rate=1.0,\n",
      "                   n_estimators=50, random_state=None), train_score: 0.6787330316742082, test_score: 0.5565610859728507\n",
      "model: BaggingClassifier(base_estimator=None, bootstrap=True, bootstrap_features=False,\n",
      "                  max_features=1.0, max_samples=1.0, n_estimators=10,\n",
      "                  n_jobs=None, oob_score=False, random_state=None, verbose=0,\n",
      "                  warm_start=False), train_score: 0.9773755656108597, test_score: 0.5972850678733032\n",
      "model: RandomForestClassifier(bootstrap=True, class_weight=None, criterion='gini',\n",
      "                       max_depth=None, max_features='auto', max_leaf_nodes=None,\n",
      "                       min_impurity_decrease=0.0, min_impurity_split=None,\n",
      "                       min_samples_leaf=1, min_samples_split=2,\n",
      "                       min_weight_fraction_leaf=0.0, n_estimators=10,\n",
      "                       n_jobs=None, oob_score=False, random_state=None,\n",
      "                       verbose=0, warm_start=False), train_score: 0.9803921568627451, test_score: 0.5429864253393665\n"
     ]
    },
    {
     "name": "stderr",
     "output_type": "stream",
     "text": [
      "/opt/anaconda3/lib/python3.7/site-packages/sklearn/ensemble/forest.py:245: FutureWarning: The default value of n_estimators will change from 10 in version 0.20 to 100 in 0.22.\n",
      "  \"10 in version 0.20 to 100 in 0.22.\", FutureWarning)\n"
     ]
    }
   ],
   "source": [
    "x = w_n_est[['price_weight_contrv2', 'high_price', '4_star', 'price', 'rating', \"Number of establishments\", \"1_star\"]]\n",
    "y = w_n_est[\"inc_cat3\"]\n",
    "\n",
    "x_train, x_test, y_train, y_test = train_test_split(x, y, random_state = 13)\n",
    "\n",
    "for model in models:\n",
    "    model_fit_score(model)"
   ]
  },
  {
   "cell_type": "markdown",
   "metadata": {},
   "source": [
    "# Try with Affluence Score as Target"
   ]
  },
  {
   "cell_type": "code",
   "execution_count": 37,
   "metadata": {
    "ExecuteTime": {
     "end_time": "2020-02-20T23:18:03.180556Z",
     "start_time": "2020-02-20T23:18:03.157727Z"
    }
   },
   "outputs": [],
   "source": [
    "aff = pd.read_csv(\"./Data/affluence.csv\")"
   ]
  },
  {
   "cell_type": "code",
   "execution_count": 38,
   "metadata": {
    "ExecuteTime": {
     "end_time": "2020-02-20T23:18:03.192853Z",
     "start_time": "2020-02-20T23:18:03.182614Z"
    }
   },
   "outputs": [],
   "source": [
    "aff = aff.groupby(\"zip_code\").mean()"
   ]
  },
  {
   "cell_type": "code",
   "execution_count": 39,
   "metadata": {
    "ExecuteTime": {
     "end_time": "2020-02-20T23:18:03.205375Z",
     "start_time": "2020-02-20T23:18:03.195262Z"
    }
   },
   "outputs": [
    {
     "data": {
      "text/html": [
       "<div>\n",
       "<style scoped>\n",
       "    .dataframe tbody tr th:only-of-type {\n",
       "        vertical-align: middle;\n",
       "    }\n",
       "\n",
       "    .dataframe tbody tr th {\n",
       "        vertical-align: top;\n",
       "    }\n",
       "\n",
       "    .dataframe thead th {\n",
       "        text-align: right;\n",
       "    }\n",
       "</style>\n",
       "<table border=\"1\" class=\"dataframe\">\n",
       "  <thead>\n",
       "    <tr style=\"text-align: right;\">\n",
       "      <th></th>\n",
       "      <th>affluence</th>\n",
       "    </tr>\n",
       "    <tr>\n",
       "      <th>zip_code</th>\n",
       "      <th></th>\n",
       "    </tr>\n",
       "  </thead>\n",
       "  <tbody>\n",
       "    <tr>\n",
       "      <th>1069</th>\n",
       "      <td>8</td>\n",
       "    </tr>\n",
       "    <tr>\n",
       "      <th>1201</th>\n",
       "      <td>4</td>\n",
       "    </tr>\n",
       "    <tr>\n",
       "      <th>1220</th>\n",
       "      <td>1</td>\n",
       "    </tr>\n",
       "    <tr>\n",
       "      <th>1247</th>\n",
       "      <td>1</td>\n",
       "    </tr>\n",
       "    <tr>\n",
       "      <th>1373</th>\n",
       "      <td>27</td>\n",
       "    </tr>\n",
       "    <tr>\n",
       "      <th>...</th>\n",
       "      <td>...</td>\n",
       "    </tr>\n",
       "    <tr>\n",
       "      <th>99515</th>\n",
       "      <td>24</td>\n",
       "    </tr>\n",
       "    <tr>\n",
       "      <th>99517</th>\n",
       "      <td>24</td>\n",
       "    </tr>\n",
       "    <tr>\n",
       "      <th>99518</th>\n",
       "      <td>18</td>\n",
       "    </tr>\n",
       "    <tr>\n",
       "      <th>99645</th>\n",
       "      <td>18</td>\n",
       "    </tr>\n",
       "    <tr>\n",
       "      <th>99901</th>\n",
       "      <td>9</td>\n",
       "    </tr>\n",
       "  </tbody>\n",
       "</table>\n",
       "<p>3454 rows × 1 columns</p>\n",
       "</div>"
      ],
      "text/plain": [
       "          affluence\n",
       "zip_code           \n",
       "1069              8\n",
       "1201              4\n",
       "1220              1\n",
       "1247              1\n",
       "1373             27\n",
       "...             ...\n",
       "99515            24\n",
       "99517            24\n",
       "99518            18\n",
       "99645            18\n",
       "99901             9\n",
       "\n",
       "[3454 rows x 1 columns]"
      ]
     },
     "execution_count": 39,
     "metadata": {},
     "output_type": "execute_result"
    }
   ],
   "source": [
    "aff"
   ]
  },
  {
   "cell_type": "code",
   "execution_count": 40,
   "metadata": {
    "ExecuteTime": {
     "end_time": "2020-02-20T23:18:03.221846Z",
     "start_time": "2020-02-20T23:18:03.208229Z"
    }
   },
   "outputs": [
    {
     "data": {
      "text/html": [
       "<div>\n",
       "<style scoped>\n",
       "    .dataframe tbody tr th:only-of-type {\n",
       "        vertical-align: middle;\n",
       "    }\n",
       "\n",
       "    .dataframe tbody tr th {\n",
       "        vertical-align: top;\n",
       "    }\n",
       "\n",
       "    .dataframe thead th {\n",
       "        text-align: right;\n",
       "    }\n",
       "</style>\n",
       "<table border=\"1\" class=\"dataframe\">\n",
       "  <thead>\n",
       "    <tr style=\"text-align: right;\">\n",
       "      <th></th>\n",
       "      <th>affluence</th>\n",
       "    </tr>\n",
       "  </thead>\n",
       "  <tbody>\n",
       "    <tr>\n",
       "      <th>count</th>\n",
       "      <td>3454.000000</td>\n",
       "    </tr>\n",
       "    <tr>\n",
       "      <th>mean</th>\n",
       "      <td>20.375507</td>\n",
       "    </tr>\n",
       "    <tr>\n",
       "      <th>std</th>\n",
       "      <td>19.783113</td>\n",
       "    </tr>\n",
       "    <tr>\n",
       "      <th>min</th>\n",
       "      <td>1.000000</td>\n",
       "    </tr>\n",
       "    <tr>\n",
       "      <th>25%</th>\n",
       "      <td>4.000000</td>\n",
       "    </tr>\n",
       "    <tr>\n",
       "      <th>50%</th>\n",
       "      <td>12.000000</td>\n",
       "    </tr>\n",
       "    <tr>\n",
       "      <th>75%</th>\n",
       "      <td>32.000000</td>\n",
       "    </tr>\n",
       "    <tr>\n",
       "      <th>max</th>\n",
       "      <td>64.000000</td>\n",
       "    </tr>\n",
       "  </tbody>\n",
       "</table>\n",
       "</div>"
      ],
      "text/plain": [
       "         affluence\n",
       "count  3454.000000\n",
       "mean     20.375507\n",
       "std      19.783113\n",
       "min       1.000000\n",
       "25%       4.000000\n",
       "50%      12.000000\n",
       "75%      32.000000\n",
       "max      64.000000"
      ]
     },
     "execution_count": 40,
     "metadata": {},
     "output_type": "execute_result"
    }
   ],
   "source": [
    "aff.describe()"
   ]
  },
  {
   "cell_type": "code",
   "execution_count": 43,
   "metadata": {
    "ExecuteTime": {
     "end_time": "2020-02-20T23:18:29.021027Z",
     "start_time": "2020-02-20T23:18:29.018249Z"
    }
   },
   "outputs": [],
   "source": [
    "#split affluence into two categories\n",
    "def map_aff(x):\n",
    "    if x <=12:\n",
    "        return 1\n",
    "    else:\n",
    "        return 2"
   ]
  },
  {
   "cell_type": "code",
   "execution_count": 88,
   "metadata": {
    "ExecuteTime": {
     "end_time": "2020-02-21T02:54:37.481663Z",
     "start_time": "2020-02-21T02:54:37.456018Z"
    }
   },
   "outputs": [],
   "source": [
    "w_aff = df.merge(aff, on = \"zip_code\")"
   ]
  },
  {
   "cell_type": "code",
   "execution_count": 89,
   "metadata": {
    "ExecuteTime": {
     "end_time": "2020-02-21T02:54:38.172697Z",
     "start_time": "2020-02-21T02:54:38.141343Z"
    }
   },
   "outputs": [],
   "source": [
    "w_aff[\"aff_cat\"] = w_aff['affluence'].apply(map_aff)"
   ]
  },
  {
   "cell_type": "code",
   "execution_count": 90,
   "metadata": {
    "ExecuteTime": {
     "end_time": "2020-02-21T02:54:38.837376Z",
     "start_time": "2020-02-21T02:54:38.821326Z"
    }
   },
   "outputs": [],
   "source": [
    "w_aff = w_aff[['price_weight_contrv2', 'high_price', '4_star', 'price', 'rating', \"aff_cat\", \"1_star\", \"zip_code.1\", 'affluence']]"
   ]
  },
  {
   "cell_type": "code",
   "execution_count": 91,
   "metadata": {
    "ExecuteTime": {
     "end_time": "2020-02-21T02:54:41.021602Z",
     "start_time": "2020-02-21T02:54:41.005577Z"
    }
   },
   "outputs": [
    {
     "data": {
      "text/html": [
       "<div>\n",
       "<style scoped>\n",
       "    .dataframe tbody tr th:only-of-type {\n",
       "        vertical-align: middle;\n",
       "    }\n",
       "\n",
       "    .dataframe tbody tr th {\n",
       "        vertical-align: top;\n",
       "    }\n",
       "\n",
       "    .dataframe thead th {\n",
       "        text-align: right;\n",
       "    }\n",
       "</style>\n",
       "<table border=\"1\" class=\"dataframe\">\n",
       "  <thead>\n",
       "    <tr style=\"text-align: right;\">\n",
       "      <th></th>\n",
       "      <th>price_weight_contrv2</th>\n",
       "      <th>high_price</th>\n",
       "      <th>4_star</th>\n",
       "      <th>price</th>\n",
       "      <th>rating</th>\n",
       "      <th>aff_cat</th>\n",
       "      <th>1_star</th>\n",
       "      <th>zip_code.1</th>\n",
       "      <th>affluence</th>\n",
       "    </tr>\n",
       "  </thead>\n",
       "  <tbody>\n",
       "    <tr>\n",
       "      <th>0</th>\n",
       "      <td>15.520809</td>\n",
       "      <td>1</td>\n",
       "      <td>0</td>\n",
       "      <td>3.00000</td>\n",
       "      <td>4.500000</td>\n",
       "      <td>1</td>\n",
       "      <td>0</td>\n",
       "      <td>1069</td>\n",
       "      <td>8</td>\n",
       "    </tr>\n",
       "    <tr>\n",
       "      <th>1</th>\n",
       "      <td>2.409936</td>\n",
       "      <td>1</td>\n",
       "      <td>0</td>\n",
       "      <td>2.50000</td>\n",
       "      <td>4.250000</td>\n",
       "      <td>1</td>\n",
       "      <td>0</td>\n",
       "      <td>1201</td>\n",
       "      <td>4</td>\n",
       "    </tr>\n",
       "    <tr>\n",
       "      <th>2</th>\n",
       "      <td>2.409936</td>\n",
       "      <td>1</td>\n",
       "      <td>0</td>\n",
       "      <td>2.50000</td>\n",
       "      <td>4.250000</td>\n",
       "      <td>1</td>\n",
       "      <td>0</td>\n",
       "      <td>1201</td>\n",
       "      <td>4</td>\n",
       "    </tr>\n",
       "    <tr>\n",
       "      <th>3</th>\n",
       "      <td>7.461323</td>\n",
       "      <td>0</td>\n",
       "      <td>0</td>\n",
       "      <td>1.50000</td>\n",
       "      <td>4.250000</td>\n",
       "      <td>1</td>\n",
       "      <td>2</td>\n",
       "      <td>1220</td>\n",
       "      <td>1</td>\n",
       "    </tr>\n",
       "    <tr>\n",
       "      <th>4</th>\n",
       "      <td>7.461323</td>\n",
       "      <td>0</td>\n",
       "      <td>0</td>\n",
       "      <td>1.50000</td>\n",
       "      <td>4.250000</td>\n",
       "      <td>1</td>\n",
       "      <td>2</td>\n",
       "      <td>1220</td>\n",
       "      <td>1</td>\n",
       "    </tr>\n",
       "    <tr>\n",
       "      <th>...</th>\n",
       "      <td>...</td>\n",
       "      <td>...</td>\n",
       "      <td>...</td>\n",
       "      <td>...</td>\n",
       "      <td>...</td>\n",
       "      <td>...</td>\n",
       "      <td>...</td>\n",
       "      <td>...</td>\n",
       "      <td>...</td>\n",
       "    </tr>\n",
       "    <tr>\n",
       "      <th>95002</th>\n",
       "      <td>5.133926</td>\n",
       "      <td>13</td>\n",
       "      <td>0</td>\n",
       "      <td>1.90099</td>\n",
       "      <td>3.762376</td>\n",
       "      <td>1</td>\n",
       "      <td>23</td>\n",
       "      <td>99901</td>\n",
       "      <td>9</td>\n",
       "    </tr>\n",
       "    <tr>\n",
       "      <th>95003</th>\n",
       "      <td>5.133926</td>\n",
       "      <td>13</td>\n",
       "      <td>0</td>\n",
       "      <td>1.90099</td>\n",
       "      <td>3.762376</td>\n",
       "      <td>1</td>\n",
       "      <td>23</td>\n",
       "      <td>99901</td>\n",
       "      <td>9</td>\n",
       "    </tr>\n",
       "    <tr>\n",
       "      <th>95004</th>\n",
       "      <td>5.133926</td>\n",
       "      <td>13</td>\n",
       "      <td>0</td>\n",
       "      <td>1.90099</td>\n",
       "      <td>3.762376</td>\n",
       "      <td>1</td>\n",
       "      <td>23</td>\n",
       "      <td>99901</td>\n",
       "      <td>9</td>\n",
       "    </tr>\n",
       "    <tr>\n",
       "      <th>95005</th>\n",
       "      <td>5.133926</td>\n",
       "      <td>13</td>\n",
       "      <td>0</td>\n",
       "      <td>1.90099</td>\n",
       "      <td>3.762376</td>\n",
       "      <td>1</td>\n",
       "      <td>23</td>\n",
       "      <td>99901</td>\n",
       "      <td>9</td>\n",
       "    </tr>\n",
       "    <tr>\n",
       "      <th>95006</th>\n",
       "      <td>5.133926</td>\n",
       "      <td>13</td>\n",
       "      <td>0</td>\n",
       "      <td>1.90099</td>\n",
       "      <td>3.762376</td>\n",
       "      <td>1</td>\n",
       "      <td>23</td>\n",
       "      <td>99901</td>\n",
       "      <td>9</td>\n",
       "    </tr>\n",
       "  </tbody>\n",
       "</table>\n",
       "<p>95007 rows × 9 columns</p>\n",
       "</div>"
      ],
      "text/plain": [
       "       price_weight_contrv2  high_price  4_star    price    rating  aff_cat  \\\n",
       "0                 15.520809           1       0  3.00000  4.500000        1   \n",
       "1                  2.409936           1       0  2.50000  4.250000        1   \n",
       "2                  2.409936           1       0  2.50000  4.250000        1   \n",
       "3                  7.461323           0       0  1.50000  4.250000        1   \n",
       "4                  7.461323           0       0  1.50000  4.250000        1   \n",
       "...                     ...         ...     ...      ...       ...      ...   \n",
       "95002              5.133926          13       0  1.90099  3.762376        1   \n",
       "95003              5.133926          13       0  1.90099  3.762376        1   \n",
       "95004              5.133926          13       0  1.90099  3.762376        1   \n",
       "95005              5.133926          13       0  1.90099  3.762376        1   \n",
       "95006              5.133926          13       0  1.90099  3.762376        1   \n",
       "\n",
       "       1_star  zip_code.1  affluence  \n",
       "0           0        1069          8  \n",
       "1           0        1201          4  \n",
       "2           0        1201          4  \n",
       "3           2        1220          1  \n",
       "4           2        1220          1  \n",
       "...       ...         ...        ...  \n",
       "95002      23       99901          9  \n",
       "95003      23       99901          9  \n",
       "95004      23       99901          9  \n",
       "95005      23       99901          9  \n",
       "95006      23       99901          9  \n",
       "\n",
       "[95007 rows x 9 columns]"
      ]
     },
     "execution_count": 91,
     "metadata": {},
     "output_type": "execute_result"
    }
   ],
   "source": [
    "w_aff"
   ]
  },
  {
   "cell_type": "code",
   "execution_count": 92,
   "metadata": {
    "ExecuteTime": {
     "end_time": "2020-02-21T02:54:43.440997Z",
     "start_time": "2020-02-21T02:54:42.470619Z"
    }
   },
   "outputs": [],
   "source": [
    "w_aff.to_csv(\"./Data/final_with_affluence.csv\", index = False)"
   ]
  },
  {
   "cell_type": "code",
   "execution_count": 49,
   "metadata": {
    "ExecuteTime": {
     "end_time": "2020-02-20T23:21:51.460937Z",
     "start_time": "2020-02-20T23:21:50.739879Z"
    }
   },
   "outputs": [
    {
     "name": "stderr",
     "output_type": "stream",
     "text": [
      "/opt/anaconda3/lib/python3.7/site-packages/sklearn/linear_model/logistic.py:432: FutureWarning: Default solver will be changed to 'lbfgs' in 0.22. Specify a solver to silence this warning.\n",
      "  FutureWarning)\n",
      "/opt/anaconda3/lib/python3.7/site-packages/sklearn/svm/base.py:193: FutureWarning: The default value of gamma will change from 'auto' to 'scale' in version 0.22 to account better for unscaled features. Set gamma explicitly to 'auto' or 'scale' to avoid this warning.\n",
      "  \"avoid this warning.\", FutureWarning)\n"
     ]
    },
    {
     "name": "stdout",
     "output_type": "stream",
     "text": [
      "model: LogisticRegression(C=1.0, class_weight=None, dual=False, fit_intercept=True,\n",
      "                   intercept_scaling=1, l1_ratio=None, max_iter=100,\n",
      "                   multi_class='warn', n_jobs=None, penalty='l2',\n",
      "                   random_state=None, solver='warn', tol=0.0001, verbose=0,\n",
      "                   warm_start=False), train_score: 0.640926640926641, test_score: 0.6238425925925926\n",
      "model: KNeighborsClassifier(algorithm='auto', leaf_size=30, metric='minkowski',\n",
      "                     metric_params=None, n_jobs=None, n_neighbors=5, p=2,\n",
      "                     weights='uniform'), train_score: 0.7332046332046332, test_score: 0.5740740740740741\n",
      "model: SVC(C=1.0, cache_size=200, class_weight=None, coef0=0.0,\n",
      "    decision_function_shape='ovr', degree=3, gamma='auto_deprecated',\n",
      "    kernel='rbf', max_iter=-1, probability=False, random_state=None,\n",
      "    shrinking=True, tol=0.001, verbose=False), train_score: 0.7, test_score: 0.6006944444444444\n",
      "model: DecisionTreeClassifier(class_weight=None, criterion='gini', max_depth=None,\n",
      "                       max_features=None, max_leaf_nodes=None,\n",
      "                       min_impurity_decrease=0.0, min_impurity_split=None,\n",
      "                       min_samples_leaf=1, min_samples_split=2,\n",
      "                       min_weight_fraction_leaf=0.0, presort=False,\n",
      "                       random_state=None, splitter='best'), train_score: 1.0, test_score: 0.5891203703703703\n",
      "model: AdaBoostClassifier(algorithm='SAMME.R', base_estimator=None, learning_rate=1.0,\n",
      "                   n_estimators=50, random_state=None), train_score: 0.6698841698841699, test_score: 0.6388888888888888\n",
      "model: BaggingClassifier(base_estimator=None, bootstrap=True, bootstrap_features=False,\n",
      "                  max_features=1.0, max_samples=1.0, n_estimators=10,\n",
      "                  n_jobs=None, oob_score=False, random_state=None, verbose=0,\n",
      "                  warm_start=False), train_score: 0.9745173745173745, test_score: 0.5949074074074074\n",
      "model: RandomForestClassifier(bootstrap=True, class_weight=None, criterion='gini',\n",
      "                       max_depth=None, max_features='auto', max_leaf_nodes=None,\n",
      "                       min_impurity_decrease=0.0, min_impurity_split=None,\n",
      "                       min_samples_leaf=1, min_samples_split=2,\n",
      "                       min_weight_fraction_leaf=0.0, n_estimators=10,\n",
      "                       n_jobs=None, oob_score=False, random_state=None,\n",
      "                       verbose=0, warm_start=False), train_score: 0.974903474903475, test_score: 0.59375\n"
     ]
    },
    {
     "name": "stderr",
     "output_type": "stream",
     "text": [
      "/opt/anaconda3/lib/python3.7/site-packages/sklearn/ensemble/forest.py:245: FutureWarning: The default value of n_estimators will change from 10 in version 0.20 to 100 in 0.22.\n",
      "  \"10 in version 0.20 to 100 in 0.22.\", FutureWarning)\n"
     ]
    }
   ],
   "source": [
    "x = w_aff[['price_weight_contrv2', 'high_price', '4_star', 'price', 'rating', \"1_star\"]]\n",
    "y = w_aff[\"aff_cat\"]\n",
    "\n",
    "x_train, x_test, y_train, y_test = train_test_split(x, y, random_state = 13)\n",
    "\n",
    "for model in models:\n",
    "    model_fit_score(model)"
   ]
  },
  {
   "cell_type": "markdown",
   "metadata": {},
   "source": [
    "## Gridsearch"
   ]
  },
  {
   "cell_type": "code",
   "execution_count": 50,
   "metadata": {
    "ExecuteTime": {
     "end_time": "2020-02-20T23:22:41.380235Z",
     "start_time": "2020-02-20T23:21:51.463802Z"
    }
   },
   "outputs": [
    {
     "data": {
      "text/plain": [
       "GridSearchCV(cv=3, error_score='raise-deprecating',\n",
       "             estimator=RandomForestClassifier(bootstrap=True, class_weight=None,\n",
       "                                              criterion='gini', max_depth=None,\n",
       "                                              max_features='auto',\n",
       "                                              max_leaf_nodes=None,\n",
       "                                              min_impurity_decrease=0.0,\n",
       "                                              min_impurity_split=None,\n",
       "                                              min_samples_leaf=1,\n",
       "                                              min_samples_split=2,\n",
       "                                              min_weight_fraction_leaf=0.0,\n",
       "                                              n_estimators='warn', n_jobs=None,\n",
       "                                              oob_score=False,\n",
       "                                              random_state=None, verbose=0,\n",
       "                                              warm_start=False),\n",
       "             iid='warn', n_jobs=-1,\n",
       "             param_grid={'bootstrap': [True], 'max_depth': [80, 90, 100],\n",
       "                         'max_features': [2, 3], 'min_samples_leaf': [3, 4, 5],\n",
       "                         'min_samples_split': [8, 10, 12],\n",
       "                         'n_estimators': [100, 200, 300]},\n",
       "             pre_dispatch='2*n_jobs', refit=True, return_train_score=False,\n",
       "             scoring=None, verbose=0)"
      ]
     },
     "execution_count": 50,
     "metadata": {},
     "output_type": "execute_result"
    }
   ],
   "source": [
    "rf = RandomForestClassifier()\n",
    "param_grid = {\n",
    "    'bootstrap': [True],\n",
    "    'max_depth': [80, 90, 100],\n",
    "    'max_features': [2, 3],\n",
    "    'min_samples_leaf': [3, 4, 5],\n",
    "    'min_samples_split': [8, 10, 12],\n",
    "    'n_estimators': [100, 200, 300]\n",
    "}\n",
    "\n",
    "grid_search = GridSearchCV(estimator = RandomForestClassifier(), param_grid = param_grid,\n",
    "                          cv = 3, n_jobs = -1)\n",
    "\n",
    "grid_search.fit(x_train, y_train)"
   ]
  },
  {
   "cell_type": "code",
   "execution_count": 51,
   "metadata": {
    "ExecuteTime": {
     "end_time": "2020-02-20T23:22:41.385799Z",
     "start_time": "2020-02-20T23:22:41.382556Z"
    }
   },
   "outputs": [
    {
     "data": {
      "text/plain": [
       "0.6521235521235521"
      ]
     },
     "execution_count": 51,
     "metadata": {},
     "output_type": "execute_result"
    }
   ],
   "source": [
    "grid_search.best_score_"
   ]
  },
  {
   "cell_type": "code",
   "execution_count": 52,
   "metadata": {
    "ExecuteTime": {
     "end_time": "2020-02-20T23:22:42.465292Z",
     "start_time": "2020-02-20T23:22:41.387512Z"
    }
   },
   "outputs": [
    {
     "data": {
      "text/plain": [
       "GridSearchCV(cv=3, error_score='raise-deprecating',\n",
       "             estimator=AdaBoostClassifier(algorithm='SAMME.R',\n",
       "                                          base_estimator=None,\n",
       "                                          learning_rate=1.0, n_estimators=50,\n",
       "                                          random_state=None),\n",
       "             iid='warn', n_jobs=-1,\n",
       "             param_grid={'n_estimators': [50, 75, 100, 200]},\n",
       "             pre_dispatch='2*n_jobs', refit=True, return_train_score=False,\n",
       "             scoring=None, verbose=0)"
      ]
     },
     "execution_count": 52,
     "metadata": {},
     "output_type": "execute_result"
    }
   ],
   "source": [
    "param_grid = {\n",
    "    'n_estimators': [50, 75, 100, 200]\n",
    "}\n",
    "\n",
    "grid_search = GridSearchCV(estimator = AdaBoostClassifier(), param_grid = param_grid,\n",
    "                          cv = 3, n_jobs = -1)\n",
    "\n",
    "grid_search.fit(x_train, y_train)"
   ]
  },
  {
   "cell_type": "code",
   "execution_count": 53,
   "metadata": {
    "ExecuteTime": {
     "end_time": "2020-02-20T23:22:42.472434Z",
     "start_time": "2020-02-20T23:22:42.467586Z"
    }
   },
   "outputs": [
    {
     "data": {
      "text/plain": [
       "0.6525096525096525"
      ]
     },
     "execution_count": 53,
     "metadata": {},
     "output_type": "execute_result"
    }
   ],
   "source": [
    "grid_search.best_score_"
   ]
  },
  {
   "cell_type": "code",
   "execution_count": 54,
   "metadata": {
    "ExecuteTime": {
     "end_time": "2020-02-20T23:22:42.480741Z",
     "start_time": "2020-02-20T23:22:42.475284Z"
    }
   },
   "outputs": [
    {
     "data": {
      "text/plain": [
       "AdaBoostClassifier(algorithm='SAMME.R', base_estimator=None, learning_rate=1.0,\n",
       "                   n_estimators=50, random_state=None)"
      ]
     },
     "execution_count": 54,
     "metadata": {},
     "output_type": "execute_result"
    }
   ],
   "source": [
    "grid_search.best_estimator_"
   ]
  },
  {
   "cell_type": "code",
   "execution_count": 55,
   "metadata": {
    "ExecuteTime": {
     "end_time": "2020-02-20T23:22:42.487935Z",
     "start_time": "2020-02-20T23:22:42.485488Z"
    }
   },
   "outputs": [],
   "source": [
    "#best score so far Adaboost with 2 categories affluence score, 65.5% with 50 estimators"
   ]
  },
  {
   "cell_type": "code",
   "execution_count": 56,
   "metadata": {
    "ExecuteTime": {
     "end_time": "2020-02-20T23:22:42.860845Z",
     "start_time": "2020-02-20T23:22:42.491589Z"
    }
   },
   "outputs": [
    {
     "data": {
      "image/png": "[encoded data removed]",
      "text/plain": [
       "<Figure size 432x288 with 1 Axes>"
      ]
     },
     "metadata": {
      "needs_background": "light"
     },
     "output_type": "display_data"
    }
   ],
   "source": [
    "preds = ada.predict(x_test)\n",
    "\n",
    "pred_proba = ada.predict_proba(x_test)\n",
    "\n",
    "plt.title(\"Predictive Probability for Affluence Category\")\n",
    "plt.xlabel(\"Predictive Probability\")\n",
    "plt.ylabel(\"Number of Predictions\")\n",
    "plt.hist(pred_proba, color = [\"forestgreen\", \"slateblue\"], bins = 10);"
   ]
  },
  {
   "cell_type": "code",
   "execution_count": 68,
   "metadata": {
    "ExecuteTime": {
     "end_time": "2020-02-20T23:26:05.167422Z",
     "start_time": "2020-02-20T23:26:05.162625Z"
    }
   },
   "outputs": [],
   "source": [
    "corr = w_aff.corr()\n",
    "corr = corr['aff_cat'].sort_values(ascending = False)"
   ]
  },
  {
   "cell_type": "code",
   "execution_count": 69,
   "metadata": {
    "ExecuteTime": {
     "end_time": "2020-02-20T23:26:08.097983Z",
     "start_time": "2020-02-20T23:26:08.090236Z"
    }
   },
   "outputs": [
    {
     "data": {
      "text/html": [
       "<div>\n",
       "<style scoped>\n",
       "    .dataframe tbody tr th:only-of-type {\n",
       "        vertical-align: middle;\n",
       "    }\n",
       "\n",
       "    .dataframe tbody tr th {\n",
       "        vertical-align: top;\n",
       "    }\n",
       "\n",
       "    .dataframe thead th {\n",
       "        text-align: right;\n",
       "    }\n",
       "</style>\n",
       "<table border=\"1\" class=\"dataframe\">\n",
       "  <thead>\n",
       "    <tr style=\"text-align: right;\">\n",
       "      <th></th>\n",
       "      <th>aff_cat</th>\n",
       "    </tr>\n",
       "  </thead>\n",
       "  <tbody>\n",
       "    <tr>\n",
       "      <th>price</th>\n",
       "      <td>0.229972</td>\n",
       "    </tr>\n",
       "    <tr>\n",
       "      <th>rating</th>\n",
       "      <td>0.140392</td>\n",
       "    </tr>\n",
       "    <tr>\n",
       "      <th>high_price</th>\n",
       "      <td>0.063737</td>\n",
       "    </tr>\n",
       "    <tr>\n",
       "      <th>price_weight_contrv2</th>\n",
       "      <td>0.037239</td>\n",
       "    </tr>\n",
       "    <tr>\n",
       "      <th>4_star</th>\n",
       "      <td>0.035005</td>\n",
       "    </tr>\n",
       "    <tr>\n",
       "      <th>1_star</th>\n",
       "      <td>-0.140245</td>\n",
       "    </tr>\n",
       "  </tbody>\n",
       "</table>\n",
       "</div>"
      ],
      "text/plain": [
       "                       aff_cat\n",
       "price                 0.229972\n",
       "rating                0.140392\n",
       "high_price            0.063737\n",
       "price_weight_contrv2  0.037239\n",
       "4_star                0.035005\n",
       "1_star               -0.140245"
      ]
     },
     "execution_count": 69,
     "metadata": {},
     "output_type": "execute_result"
    }
   ],
   "source": [
    "corr = pd.DataFrame (corr)\n",
    "corr = corr.drop(\"aff_cat\", axis = 0)\n",
    "corr"
   ]
  },
  {
   "cell_type": "code",
   "execution_count": 59,
   "metadata": {
    "ExecuteTime": {
     "end_time": "2020-02-20T23:22:42.952193Z",
     "start_time": "2020-02-20T23:22:42.878614Z"
    }
   },
   "outputs": [],
   "source": [
    "import seaborn as sns"
   ]
  },
  {
   "cell_type": "code",
   "execution_count": 70,
   "metadata": {
    "ExecuteTime": {
     "end_time": "2020-02-20T23:26:40.954968Z",
     "start_time": "2020-02-20T23:26:40.742033Z"
    }
   },
   "outputs": [
    {
     "data": {
      "image/png": "[encoded data removed]",
      "text/plain": [
       "<Figure size 432x288 with 1 Axes>"
      ]
     },
     "metadata": {
      "needs_background": "light"
     },
     "output_type": "display_data"
    }
   ],
   "source": [
    "plt.title(\"Correlation with Affluence Category\")\n",
    "plt.xlim(-.2, .5)\n",
    "\n",
    "sns.barplot(corr['aff_cat'], corr.index, palette = \"BuGn_r\" );"
   ]
  },
  {
   "cell_type": "markdown",
   "metadata": {
    "ExecuteTime": {
     "end_time": "2020-02-20T22:41:44.737089Z",
     "start_time": "2020-02-20T22:41:44.734800Z"
    }
   },
   "source": [
    "## Bring in un-aggregated dataframe for visualizations"
   ]
  },
  {
   "cell_type": "code",
   "execution_count": 61,
   "metadata": {
    "ExecuteTime": {
     "end_time": "2020-02-20T23:22:43.568287Z",
     "start_time": "2020-02-20T23:22:43.127440Z"
    }
   },
   "outputs": [],
   "source": [
    "old = pd.read_csv(\"./Data/final_not_aggregated.csv\")"
   ]
  },
  {
   "cell_type": "code",
   "execution_count": 62,
   "metadata": {
    "ExecuteTime": {
     "end_time": "2020-02-20T23:22:43.596786Z",
     "start_time": "2020-02-20T23:22:43.570566Z"
    }
   },
   "outputs": [],
   "source": [
    "aff = pd.read_csv(\"./Data/affluence.csv\")"
   ]
  },
  {
   "cell_type": "code",
   "execution_count": 63,
   "metadata": {
    "ExecuteTime": {
     "end_time": "2020-02-20T23:22:43.627872Z",
     "start_time": "2020-02-20T23:22:43.598530Z"
    }
   },
   "outputs": [],
   "source": [
    "aff['affluence_category'] = aff['affluence'].apply(map_aff)"
   ]
  },
  {
   "cell_type": "code",
   "execution_count": 64,
   "metadata": {
    "ExecuteTime": {
     "end_time": "2020-02-20T23:22:43.659204Z",
     "start_time": "2020-02-20T23:22:43.629739Z"
    }
   },
   "outputs": [],
   "source": [
    "old = old.merge(aff, left_index = True, right_index = True)"
   ]
  },
  {
   "cell_type": "code",
   "execution_count": 65,
   "metadata": {
    "ExecuteTime": {
     "end_time": "2020-02-20T23:22:43.868412Z",
     "start_time": "2020-02-20T23:22:43.661312Z"
    }
   },
   "outputs": [
    {
     "data": {
      "image/png": "[encoded data removed]",
      "text/plain": [
       "<Figure size 432x288 with 1 Axes>"
      ]
     },
     "metadata": {
      "needs_background": "light"
     },
     "output_type": "display_data"
    }
   ],
   "source": [
    "plt.title(\"Price Category Counts by Affluence Category\")\n",
    "\n",
    "sns.countplot(x=\"price\", hue=\"affluence_category\", data=old, palette = \"BuGn_r\");"
   ]
  },
  {
   "cell_type": "code",
   "execution_count": null,
   "metadata": {},
   "outputs": [],
   "source": []
  }
 ],
 "metadata": {
  "kernelspec": {
   "display_name": "Python 3",
   "language": "python",
   "name": "python3"
  },
  "language_info": {
   "codemirror_mode": {
    "name": "ipython",
    "version": 3
   },
   "file_extension": ".py",
   "mimetype": "text/x-python",
   "name": "python",
   "nbconvert_exporter": "python",
   "pygments_lexer": "ipython3",
   "version": "3.7.4"
  }
 },
 "nbformat": 4,
 "nbformat_minor": 2
}
