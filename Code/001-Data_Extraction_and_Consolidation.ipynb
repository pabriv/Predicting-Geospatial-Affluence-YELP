{
 "cells": [
  {
   "cell_type": "code",
   "execution_count": 1,
   "metadata": {},
   "outputs": [
    {
     "name": "stderr",
     "output_type": "stream",
     "text": [
      "C:\\ProgramData\\Anaconda3\\lib\\site-packages\\statsmodels\\tools\\_testing.py:19: FutureWarning: pandas.util.testing is deprecated. Use the functions in the public API at pandas.testing instead.\n",
      "  import pandas.util.testing as tm\n"
     ]
    }
   ],
   "source": [
    "import numpy as np\n",
    "import pandas as pd\n",
    "import matplotlib.pyplot as plt\n",
    "import seaborn as sns\n",
    "import requests\n",
    "import json\n",
    "from bs4 import BeautifulSoup\n",
    "%matplotlib inline"
   ]
  },
  {
   "cell_type": "code",
   "execution_count": 100,
   "metadata": {},
   "outputs": [],
   "source": [
    "# Define key\n",
    "api_key = 'Your API Key Goes Here!'\n",
    "\n",
    "from yelpapi import YelpAPI\n",
    "yelp_api = YelpAPI(api_key, timeout_s=1.1111111)\n",
    "\n",
    "# Define Endpoint and Header\n",
    "ENDPOINT = 'https://api.yelp.com/v3/businesses/search'\n",
    "HEADERS = {'Authorization': 'bearer %s' % api_key}"
   ]
  },
  {
   "cell_type": "code",
   "execution_count": 73,
   "metadata": {},
   "outputs": [],
   "source": [
    "# List of Categories to Include\n",
    "\n",
    "cats = ['restaurants',\n",
    "           'shopping',\n",
    "           'nightlife',\n",
    "           'laundromat',\n",
    "           'spas',\n",
    "           'hotelstravel',\n",
    "           'localservices',\n",
    "           'food',\n",
    "           'eventservices',\n",
    "           'beautysvc',\n",
    "           'dryclean',\n",
    "           'hair',\n",
    "           'bar',\n",
    "           'bagels',\n",
    "           'breweries',\n",
    "           'burgers',\n",
    "           'coffee',\n",
    "           'french',\n",
    "           'gourmet',\n",
    "           'grocery',\n",
    "           'steak',\n",
    "           'sushi',\n",
    "           'wine_bars']"
   ]
  },
  {
   "cell_type": "markdown",
   "metadata": {},
   "source": [
    "### POOR CITIES YELP DATA PULL"
   ]
  },
  {
   "cell_type": "code",
   "execution_count": 4,
   "metadata": {},
   "outputs": [],
   "source": [
    "# list of poorest cities in all U.S. states\n",
    "poor_cities = ['Selma, AL',\n",
    "               'Ketchikan, Alaska',\n",
    "               'South Tucson, Arizona',\n",
    "               'Helena, Arkansas',\n",
    "               'Clearlake, CA',\n",
    "               'Federal Heights, Colorado',\n",
    "               'Willimantic, CT',\n",
    "               'Claymont, Delware',\n",
    "               'Belle Glade, Florida',\n",
    "               'Brunswick, GA',\n",
    "               'Hawaiian Paradise Park, Hawaii',\n",
    "               'Bonners Ferry, Idaho',\n",
    "               'Centreville, IL',\n",
    "               'Knox, Indiana',\n",
    "               'Onawa, Iowa',\n",
    "               'Fort Scott, Kansas',\n",
    "               'Glasgow, Kentucky',\n",
    "               'Bastrop, Louisiana',\n",
    "               'Presque Isle, Maine',\n",
    "               'Cumberland, MD', \n",
    "               'North Adams, MA',\n",
    "               'Hamtramck, Michigan',\n",
    "               'Brainerd, Minnesota',\n",
    "               'Vicksburg, Mississippi',\n",
    "               'Fredericktown, Missouri',\n",
    "               'Conrad, Montana',\n",
    "               'Red Cloud, Nebraska',\n",
    "               'Laughlin, Nevada',\n",
    "               'Littleon, New Hampshire',\n",
    "               'Holiday City-Berkeley, NJ',\n",
    "               'Deming, NM',\n",
    "               'New Square, NY',\n",
    "               'Forest City, NC',\n",
    "               'Devils Lake, North Dakota',\n",
    "               'East Cleveland, Ohio',\n",
    "               'Wewoka, Oklahoma',\n",
    "               'Coquille, Oregon',\n",
    "               'Johnstown, PA',\n",
    "               'Central Falls, RI',\n",
    "               'Central, SC',\n",
    "               'Sisseton, South Dakota',\n",
    "               'Camden, Tennessee',\n",
    "               'San Benito, Texas',\n",
    "               'South Salt Lake, Utah',\n",
    "               'St. Johnsbury, Vermont',\n",
    "               'Bensley, Virginia',\n",
    "               'Chewelah, WA',\n",
    "               'Beckley, WV',\n",
    "               'Whitewater, Wisconsin',\n",
    "               'Wheatland, Wyoming'    \n",
    "]\n",
    "\n",
    "# source: https://www.usatoday.com/story/money/2019/05/07/poorest-cities-in-every-state-in-the-us/39431283/"
   ]
  },
  {
   "cell_type": "code",
   "execution_count": 5,
   "metadata": {},
   "outputs": [],
   "source": [
    "# instantiate list for future appending\n",
    "poor_list = []\n",
    "\n",
    "# Set range\n",
    "offset_range = range(0,10)"
   ]
  },
  {
   "cell_type": "code",
   "execution_count": 7,
   "metadata": {},
   "outputs": [],
   "source": [
    "# For Loop Time !\n",
    "\n",
    "for pcity in poor_cities:\n",
    "    for gamma in offset_range:\n",
    "        \n",
    "        # Define parameters\n",
    "        PARAMETERS = {'limit': 50,\n",
    "                      'sort_by' : 'review_count',\n",
    "                      'radius': 6_440,  # ~4 miles\n",
    "                      'categories': cats,\n",
    "                      'locale': 'en_US',\n",
    "                      'price':'1,2,3,4',\n",
    "                      'location': pcity,\n",
    "                      'offset':0+(50*gamma)}\n",
    "\n",
    "        # Make a request to Yelp API\n",
    "        res = requests.get(url = ENDPOINT,\n",
    "                           params=PARAMETERS,\n",
    "                           headers = HEADERS)\n",
    "        res2 = res.json()\n",
    "\n",
    "        for i in range(len(res2['businesses'])):\n",
    "            a = res2['businesses'][i]['id'] # business id\n",
    "            b = res2['businesses'][i]['name'] # name\n",
    "            c = res2['businesses'][i]['review_count']\n",
    "            d = res2['businesses'][i]['rating']\n",
    "            e = res2['businesses'][i]['price']\n",
    "            f = res2['businesses'][i]['location']['city']\n",
    "            g = res2['businesses'][i]['location']['state']\n",
    "            h = res2['businesses'][i]['location']['country']\n",
    "            x = res2['businesses'][i]['location']['zip_code'] # zip\n",
    "            j = res2['businesses'][i]['categories'] # categories, unfortunately couldn't get this one parsed\n",
    "\n",
    "            poor_list.append([a,b,c,d,e,f,g,h,x,j])       "
   ]
  },
  {
   "cell_type": "code",
   "execution_count": 9,
   "metadata": {},
   "outputs": [
    {
     "data": {
      "text/plain": [
       "6527"
      ]
     },
     "execution_count": 9,
     "metadata": {},
     "output_type": "execute_result"
    }
   ],
   "source": [
    "len(poor_list)"
   ]
  },
  {
   "cell_type": "markdown",
   "metadata": {},
   "source": [
    "### RICH CITIES YELP DATA PULL"
   ]
  },
  {
   "cell_type": "code",
   "execution_count": 10,
   "metadata": {},
   "outputs": [
    {
     "data": {
      "text/plain": [
       "['Mountain Brook, Alabama',\n",
       " 'Fishhook, Alaska',\n",
       " 'Tanque Verde, Arizona',\n",
       " 'Tontitown, Arkansas',\n",
       " 'Los Altos Hills, Calif.',\n",
       " 'The Pinery, Colorado',\n",
       " 'Darien, Connecticut',\n",
       " 'North Star, Delaware',\n",
       " 'Key Biscayne, Florida',\n",
       " 'Senoia, Georgia',\n",
       " 'Ocean Pointe, Hawaii',\n",
       " 'Eagle, Idaho',\n",
       " 'Winnetka, Illinois',\n",
       " 'St. John, Indiana',\n",
       " 'Johnston, Iowa',\n",
       " 'Fairway, Kansas',\n",
       " 'Indian Hills, Kentucky',\n",
       " 'Zachary, Louisiana',\n",
       " 'Saco, Maine',\n",
       " 'Travilah, Maryland',\n",
       " 'Winchester, Massachusetts',\n",
       " 'Village of Grosse Pointe Shores, Michigan',\n",
       " 'Dellwood, Minnesota',\n",
       " 'Brandon, Mississippi',\n",
       " 'Town and Country, Missouri',\n",
       " 'Helena Valley Northwest, Montana',\n",
       " 'Waverly, Nebraska',\n",
       " 'Spring Creek, Nevada',\n",
       " 'Londonderry, New Hampshire',\n",
       " 'Upper Montclair, New Jersey',\n",
       " 'White Rock, New Mexico',\n",
       " 'Sands Point, New York',\n",
       " 'Davidson, North Carolina',\n",
       " 'Williston, North Dakota',\n",
       " 'Indian Hill, Ohio',\n",
       " 'Jenks, Oklahoma',\n",
       " 'Bethany, Oregon',\n",
       " 'Edgeworth, Pennsylvania',\n",
       " 'Greenville, Rhode Island',\n",
       " \"Sullivan's Island, South Carolina\",\n",
       " 'Harrisburg, South Dakota',\n",
       " 'Oak Hill, Tennessee',\n",
       " 'Bellaire, Texas',\n",
       " 'Highland, Utah',\n",
       " 'South Burlington, Vermont',\n",
       " 'Great Falls, Virginia',\n",
       " 'Cottage Lake, Washington',\n",
       " 'Teays Valley, West Virginia',\n",
       " 'Whitefish Bay, Wisconsin',\n",
       " 'Bar Nunn, Wyoming']"
      ]
     },
     "execution_count": 10,
     "metadata": {},
     "output_type": "execute_result"
    }
   ],
   "source": [
    "# SCRAPE, CLEAN, PULL and CREATE LIST OF RICH CITIES FROM ONLINE SITE\n",
    "\n",
    "url = 'https://www.usatoday.com/story/money/economy/2018/05/30/richest-town-in-every-state/35316557/'\n",
    "res = requests.get(url)\n",
    "soup = BeautifulSoup(res.content, 'lxml')\n",
    "\n",
    "soup\n",
    "\n",
    "finder = soup.find_all('h3', {'class':'gnt_ar_b_h2'})\n",
    "finder\n",
    "\n",
    "rich_city_list = []\n",
    "\n",
    "for row in finder:\n",
    "    z = row.text\n",
    "    rich_city_list.append(z)\n",
    "\n",
    "rich_city_list\n",
    "\n",
    "# source: https://www.usatoday.com/story/money/economy/2018/05/30/richest-town-in-every-state/35316557/"
   ]
  },
  {
   "cell_type": "code",
   "execution_count": 11,
   "metadata": {},
   "outputs": [],
   "source": [
    "# instantiate list for future appending\n",
    "rich_list = []\n",
    "\n",
    "# Set range\n",
    "offset_range = range(0,10)"
   ]
  },
  {
   "cell_type": "code",
   "execution_count": 12,
   "metadata": {},
   "outputs": [],
   "source": [
    "# For Loop Time !\n",
    "\n",
    "for rcity in rich_city_list:\n",
    "    for gamma in offset_range:\n",
    "        # Define parameters\n",
    "        PARAMETERS = {'limit': 50,\n",
    "                      'sort_by' : 'review_count',\n",
    "                      'radius': 6_440,  # ~4 miles\n",
    "                      'categories': cats,\n",
    "                      'locale': 'en_US',\n",
    "                      'price':'1,2,3,4',\n",
    "                      'location': rcity,\n",
    "                      'offset':0+(50*gamma)}\n",
    "\n",
    "        # Make a request to Yelp API\n",
    "        res = requests.get(url = ENDPOINT,\n",
    "                           params=PARAMETERS,\n",
    "                           headers = HEADERS)\n",
    "        res2 = res.json()\n",
    "\n",
    "        for i in range(len(res2['businesses'])):\n",
    "            a = res2['businesses'][i]['id'] # business id\n",
    "            b = res2['businesses'][i]['name'] # name\n",
    "            c = res2['businesses'][i]['review_count']\n",
    "            d = res2['businesses'][i]['rating']\n",
    "            e = res2['businesses'][i]['price']\n",
    "            f = res2['businesses'][i]['location']['city']\n",
    "            g = res2['businesses'][i]['location']['state']\n",
    "            h = res2['businesses'][i]['location']['country']\n",
    "            x = res2['businesses'][i]['location']['zip_code'] # zip\n",
    "            j = res2['businesses'][i]['categories'] # categories, unfortunately couldn't get this one parsed\n",
    "\n",
    "            rich_list.append([a,b,c,d,e,f,g,h,x,j])       "
   ]
  },
  {
   "cell_type": "code",
   "execution_count": 13,
   "metadata": {},
   "outputs": [
    {
     "data": {
      "text/plain": [
       "14237"
      ]
     },
     "execution_count": 13,
     "metadata": {},
     "output_type": "execute_result"
    }
   ],
   "source": [
    "len(rich_list)"
   ]
  },
  {
   "cell_type": "markdown",
   "metadata": {},
   "source": [
    "### Data Extraction for top 200 most populous cities in the U.S."
   ]
  },
  {
   "cell_type": "code",
   "execution_count": 76,
   "metadata": {},
   "outputs": [],
   "source": [
    "pop_list = ['New York , New York',\n",
    "'Los Angeles , California',\n",
    "'Chicago , Illinois',\n",
    "'Houston , Texas',\n",
    "'Phoenix , Arizona',\n",
    "'San Antonio , Texas',\n",
    "'Philadelphia , Pennsylvania',\n",
    "'San Diego , California',\n",
    "'Dallas , Texas',\n",
    "'San Jose , California',\n",
    "'Austin , Texas',\n",
    "'Jacksonville , Florida',\n",
    "'Fort Worth , Texas',\n",
    "'San Francisco , California',\n",
    "'Charlotte , North Carolina',\n",
    "'Columbus , Ohio',\n",
    "'Indianapolis , Indiana',\n",
    "'Seattle , Washington',\n",
    "'Denver , Colorado',\n",
    "'Washington Dc , District Of Columbia',\n",
    "'Boston , Massachusetts',\n",
    "'El Paso , Texas',\n",
    "'Nashville , Tennessee',\n",
    "'Portland , Oregon',\n",
    "'Las Vegas , Nevada',\n",
    "'Oklahoma City , Oklahoma',\n",
    "'Detroit , Michigan',\n",
    "'Memphis , Tennessee',\n",
    "'Louisville , Kentucky',\n",
    "'Baltimore , Maryland',\n",
    "'Milwaukee , Wisconsin',\n",
    "'Albuquerque , New Mexico',\n",
    "'Tucson , Arizona',\n",
    "'Fresno , California',\n",
    "'Sacramento , California',\n",
    "'Atlanta , Georgia',\n",
    "'Kansas City , Missouri',\n",
    "'Miami , Florida',\n",
    "'Colorado Springs , Colorado',\n",
    "'Raleigh , North Carolina',\n",
    "'Long Beach , California',\n",
    "'Virginia Beach , Virginia',\n",
    "'Omaha , Nebraska',\n",
    "'Oakland , California',\n",
    "'Minneapolis , Minnesota',\n",
    "'Tampa , Florida',\n",
    "'Arlington , Texas',\n",
    "'Tulsa , Oklahoma',\n",
    "'New Orleans , Louisiana',\n",
    "'Wichita , Kansas',\n",
    "'Bakersfield , California',\n",
    "'Cleveland , Ohio',\n",
    "'Aurora , Colorado',\n",
    "'Anaheim , California',\n",
    "'Honolulu , Hawaii',\n",
    "'Riverside , California',\n",
    "'Santa Ana , California',\n",
    "'Lexington , Kentucky',\n",
    "'Corpus Christi , Texas',\n",
    "'Henderson , Nevada',\n",
    "'Stockton , California',\n",
    "'St. Paul , Minnesota',\n",
    "'Irvine , California',\n",
    "'Orlando , Florida',\n",
    "'Pittsburgh , Pennsylvania',\n",
    "'Cincinnati , Ohio',\n",
    "'Anchorage , Alaska',\n",
    "'St. Louis , Missouri',\n",
    "'Plano , Texas',\n",
    "'Lincoln , Nebraska',\n",
    "'Greensboro , North Carolina',\n",
    "'Durham , North Carolina',\n",
    "'Newark , New Jersey',\n",
    "'St. Petersburg , Florida',\n",
    "'Chula Vista , California',\n",
    "'Toledo , Ohio',\n",
    "'Scottsdale , Arizona',\n",
    "'Fort Wayne , Indiana',\n",
    "'Madison , Wisconsin',\n",
    "'Lubbock , Texas',\n",
    "'Laredo , Texas',\n",
    "'Jersey City , New Jersey',\n",
    "'Reno , Nevada',\n",
    "'Chandler , Arizona',\n",
    "'North Las Vegas , Nevada',\n",
    "'Glendale , Arizona',\n",
    "'Gilbert , Arizona',\n",
    "'Buffalo , New York',\n",
    "'Winston Salem , North Carolina',\n",
    "'Chesapeake , Virginia',\n",
    "'Irving , Texas',\n",
    "'Norfolk , Virginia',\n",
    "'Fremont , California',\n",
    "'Richmond , Virginia',\n",
    "'Boise , Idaho',\n",
    "'Hialeah , Florida',\n",
    "'Garland , Texas',\n",
    "'Spokane , Washington',\n",
    "'Tacoma , Washington',\n",
    "'Baton Rouge , Louisiana',\n",
    "'Fontana , California',\n",
    "'Modesto , California',\n",
    "'San Bernardino , California',\n",
    "'Des Moines , Iowa',\n",
    "'Moreno Valley , California',\n",
    "'Oxnard , California',\n",
    "'Mckinney , Texas',\n",
    "'Birmingham , Alabama',\n",
    "'Fayetteville , North Carolina',\n",
    "'Port St. Lucie , Florida',\n",
    "'Rochester , New York',\n",
    "'Amarillo , Texas',\n",
    "'Grand Prairie , Texas',\n",
    "'Salt Lake City , Utah',\n",
    "'Yonkers , New York',\n",
    "'Frisco , Texas',\n",
    "'Grand Rapids , Michigan',\n",
    "'Huntsville , Alabama',\n",
    "'Tempe , Arizona',\n",
    "'Overland Park , Kansas',\n",
    "'Little Rock , Arkansas',\n",
    "'Cape Coral , Florida',\n",
    "'Huntington Beach , California',\n",
    "'Augusta , Georgia',\n",
    "'Montgomery , Alabama',\n",
    "'Tallahassee , Florida',\n",
    "'Akron , Ohio',\n",
    "'Mobile , Alabama',\n",
    "'Knoxville , Tennessee',\n",
    "'Brownsville , Texas',\n",
    "'Shreveport , Louisiana',\n",
    "'Sioux Falls , South Dakota',\n",
    "'Worcester , Massachusetts',\n",
    "'Santa Clarita , California',\n",
    "'Vancouver , Washington',\n",
    "'Rancho Cucamonga , California',\n",
    "'Elk Grove , California',\n",
    "'Fort Lauderdale , Florida',\n",
    "'Ontario , California',\n",
    "'Chattanooga , Tennessee',\n",
    "'Newport News , Virginia',\n",
    "'Salem , Oregon',\n",
    "'Providence , Rhode Island',\n",
    "'Corona , California',\n",
    "'Peoria , Arizona',\n",
    "'Eugene , Oregon',\n",
    "'Santa Rosa , California',\n",
    "'Oceanside , California',\n",
    "'Pembroke Pines , Florida',\n",
    "'Garden Grove , California',\n",
    "'Fort Collins , Colorado',\n",
    "'Cary , North Carolina',\n",
    "'Springfield , Missouri',\n",
    "'Alexandria , Virginia',\n",
    "'Hollywood , Florida',\n",
    "'Hayward , California',\n",
    "'Lakewood , Colorado',\n",
    "'Jackson , Mississippi',\n",
    "'Lancaster , California',\n",
    "'Salinas , California',\n",
    "'Sunnyvale , California',\n",
    "'Palmdale , California',\n",
    "'Murfreesboro , Tennessee',\n",
    "'Killeen , Texas',\n",
    "'Escondido , California',\n",
    "'Pomona , California',\n",
    "'Pasadena , Texas',\n",
    "'Mcallen , Texas',\n",
    "'Savannah , Georgia',\n",
    "'Macon Bibb County , Georgia',\n",
    "'Bellevue , Washington',\n",
    "'Naperville , Illinois',\n",
    "'Paterson , New Jersey',\n",
    "'Miramar , Florida',\n",
    "'Torrance , California',\n",
    "'Rockford , Illinois',\n",
    "'Denton , Texas',\n",
    "'Waco , Texas',\n",
    "'Roseville , California',\n",
    "'Fullerton , California',\n",
    "'Charleston , South Carolina',\n",
    "'Mesquite , Texas',\n",
    "'Olathe , Kansas',\n",
    "'Bridgeport , Connecticut',\n",
    "'Orange , California',\n",
    "'Syracuse , New York',\n",
    "'Midland , Texas',\n",
    "'Round Rock , Texas',\n",
    "'Dayton , Ohio',\n",
    "'West Valley City , Utah',\n",
    "'Gainesville , Florida',\n",
    "'Visalia , California',\n",
    "'Columbia , South Carolina',\n",
    "'Carrollton , Texas',\n",
    "'Coral Springs , Florida'\n",
    "]\n",
    "\n",
    "# source: http://worldpopulationreview.com/us-cities/"
   ]
  },
  {
   "cell_type": "code",
   "execution_count": 77,
   "metadata": {},
   "outputs": [],
   "source": [
    "# instantiate list for future appending\n",
    "pop_list_final = []\n",
    "\n",
    "# Set range\n",
    "offset_range = range(0,10)"
   ]
  },
  {
   "cell_type": "code",
   "execution_count": 78,
   "metadata": {},
   "outputs": [],
   "source": [
    "# For Loop Time !\n",
    "\n",
    "for popcity in pop_list:\n",
    "    for gamma in offset_range:\n",
    "        # Define parameters\n",
    "        PARAMETERS = {'limit': 50,\n",
    "                      'sort_by' : 'review_count',\n",
    "                      'radius': 6_440,  # ~4 miles\n",
    "                      'categories': cats,\n",
    "                      'locale': 'en_US',\n",
    "                      'price':'1,2,3,4',\n",
    "                      'location': popcity,\n",
    "                      'offset':0+(50*gamma)}\n",
    "\n",
    "        # Make a request to Yelp API\n",
    "        res = requests.get(url = ENDPOINT,\n",
    "                           params=PARAMETERS,\n",
    "                           headers = HEADERS)\n",
    "        res2 = res.json()\n",
    "\n",
    "        for i in range(len(res2['businesses'])):\n",
    "            a = res2['businesses'][i]['id'] # business id\n",
    "            b = res2['businesses'][i]['name'] # name\n",
    "            c = res2['businesses'][i]['review_count']\n",
    "            d = res2['businesses'][i]['rating']\n",
    "            e = res2['businesses'][i]['price']\n",
    "            f = res2['businesses'][i]['location']['city']\n",
    "            g = res2['businesses'][i]['location']['state']\n",
    "            h = res2['businesses'][i]['location']['country']\n",
    "            x = res2['businesses'][i]['location']['zip_code'] # zip\n",
    "            j = res2['businesses'][i]['categories'] # categories, unfortunately couldn't get this one parsed\n",
    "\n",
    "            pop_list_final.append([a,b,c,d,e,f,g,h,x,j])       "
   ]
  },
  {
   "cell_type": "code",
   "execution_count": 79,
   "metadata": {},
   "outputs": [
    {
     "data": {
      "text/plain": [
       "96089"
      ]
     },
     "execution_count": 79,
     "metadata": {},
     "output_type": "execute_result"
    }
   ],
   "source": [
    "len(pop_list_final)"
   ]
  },
  {
   "cell_type": "markdown",
   "metadata": {},
   "source": [
    "### DataFrame Consolidation"
   ]
  },
  {
   "cell_type": "markdown",
   "metadata": {},
   "source": [
    "##### POPULOUS DF"
   ]
  },
  {
   "cell_type": "code",
   "execution_count": 96,
   "metadata": {},
   "outputs": [],
   "source": [
    "populous = pd.DataFrame(pop_list_final, columns=['a','b','c','d','e','f','g','h','x','j'])\n",
    "\n",
    "populous.rename(columns = {'a':'id',\n",
    "                       'b': 'name',\n",
    "                       'c':'review_count',\n",
    "                       'd':'rating',\n",
    "                       'e':'price',\n",
    "                       'f':'city',\n",
    "                       'g':'state',\n",
    "                       'h':'country',\n",
    "                       'x':'zip_code',\n",
    "                       'j':'categories'\n",
    "                      },inplace=True)"
   ]
  },
  {
   "cell_type": "code",
   "execution_count": 97,
   "metadata": {},
   "outputs": [
    {
     "data": {
      "text/plain": [
       "(96089, 10)"
      ]
     },
     "execution_count": 97,
     "metadata": {},
     "output_type": "execute_result"
    }
   ],
   "source": [
    "populous.shape"
   ]
  },
  {
   "cell_type": "code",
   "execution_count": 98,
   "metadata": {},
   "outputs": [],
   "source": [
    "populous['designation'] = 'zz_populous'"
   ]
  },
  {
   "cell_type": "code",
   "execution_count": 99,
   "metadata": {},
   "outputs": [],
   "source": [
    "populous.to_csv('./data/new/populous.csv', index=False)"
   ]
  },
  {
   "cell_type": "markdown",
   "metadata": {},
   "source": [
    "##### POOR DF"
   ]
  },
  {
   "cell_type": "code",
   "execution_count": 87,
   "metadata": {},
   "outputs": [],
   "source": [
    "poor = pd.DataFrame(poor_list, columns=['a','b','c','d','e','f','g','h','x','j'])\n",
    "\n",
    "poor.rename(columns = {'a':'id',\n",
    "                       'b': 'name',\n",
    "                       'c':'review_count',\n",
    "                       'd':'rating',\n",
    "                       'e':'price',\n",
    "                       'f':'city',\n",
    "                       'g':'state',\n",
    "                       'h':'country',\n",
    "                       'x':'zip_code',\n",
    "                       'j':'categories'\n",
    "                      },inplace=True)"
   ]
  },
  {
   "cell_type": "code",
   "execution_count": 88,
   "metadata": {},
   "outputs": [
    {
     "data": {
      "text/plain": [
       "(6527, 10)"
      ]
     },
     "execution_count": 88,
     "metadata": {},
     "output_type": "execute_result"
    }
   ],
   "source": [
    "poor.shape"
   ]
  },
  {
   "cell_type": "code",
   "execution_count": 89,
   "metadata": {},
   "outputs": [],
   "source": [
    "poor['designation'] = 'less_aff'"
   ]
  },
  {
   "cell_type": "code",
   "execution_count": 91,
   "metadata": {},
   "outputs": [],
   "source": [
    "poor.to_csv('./data/new/poor.csv', index=False)"
   ]
  },
  {
   "cell_type": "markdown",
   "metadata": {},
   "source": [
    "##### RICH DF"
   ]
  },
  {
   "cell_type": "code",
   "execution_count": 92,
   "metadata": {},
   "outputs": [],
   "source": [
    "rich = pd.DataFrame(rich_list, columns=['a','b','c','d','e','f','g','h','x','j'])\n",
    "\n",
    "rich.rename(columns = {'a':'id',\n",
    "                       'b': 'name',\n",
    "                       'c':'review_count',\n",
    "                       'd':'rating',\n",
    "                       'e':'price',\n",
    "                       'f':'city',\n",
    "                       'g':'state',\n",
    "                       'h':'country',\n",
    "                       'x':'zip_code',\n",
    "                       'j':'categories'\n",
    "                      },inplace=True)"
   ]
  },
  {
   "cell_type": "code",
   "execution_count": 93,
   "metadata": {},
   "outputs": [
    {
     "data": {
      "text/plain": [
       "(14237, 10)"
      ]
     },
     "execution_count": 93,
     "metadata": {},
     "output_type": "execute_result"
    }
   ],
   "source": [
    "rich.shape"
   ]
  },
  {
   "cell_type": "code",
   "execution_count": 94,
   "metadata": {},
   "outputs": [],
   "source": [
    "rich['designation'] = 'very_aff'"
   ]
  },
  {
   "cell_type": "code",
   "execution_count": 95,
   "metadata": {},
   "outputs": [],
   "source": [
    "rich.to_csv('./data/new/rich.csv', index=False)"
   ]
  },
  {
   "cell_type": "markdown",
   "metadata": {},
   "source": [
    "### Read-In Additional Files"
   ]
  },
  {
   "cell_type": "code",
   "execution_count": 2,
   "metadata": {},
   "outputs": [],
   "source": [
    "eliz = pd.read_excel('./data/new/eliz2.xlsx')"
   ]
  },
  {
   "cell_type": "code",
   "execution_count": 3,
   "metadata": {},
   "outputs": [
    {
     "data": {
      "text/plain": [
       "(41037, 9)"
      ]
     },
     "execution_count": 3,
     "metadata": {},
     "output_type": "execute_result"
    }
   ],
   "source": [
    "eliz.shape"
   ]
  },
  {
   "cell_type": "code",
   "execution_count": 4,
   "metadata": {},
   "outputs": [],
   "source": [
    "income3 = pd.read_excel('./data/new/income3.xlsx')"
   ]
  },
  {
   "cell_type": "code",
   "execution_count": 5,
   "metadata": {},
   "outputs": [
    {
     "data": {
      "text/plain": [
       "(29873, 2)"
      ]
     },
     "execution_count": 5,
     "metadata": {},
     "output_type": "execute_result"
    }
   ],
   "source": [
    "income3.shape"
   ]
  },
  {
   "cell_type": "code",
   "execution_count": 6,
   "metadata": {},
   "outputs": [
    {
     "data": {
      "text/plain": [
       "((6527, 11), (14237, 11))"
      ]
     },
     "execution_count": 6,
     "metadata": {},
     "output_type": "execute_result"
    }
   ],
   "source": [
    "poor = pd.read_csv('./data/new/poor.csv')\n",
    "rich = pd.read_csv('./data/new/rich.csv')\n",
    "\n",
    "poor.shape, rich.shape"
   ]
  },
  {
   "cell_type": "code",
   "execution_count": 7,
   "metadata": {},
   "outputs": [
    {
     "data": {
      "text/plain": [
       "(96089, 11)"
      ]
     },
     "execution_count": 7,
     "metadata": {},
     "output_type": "execute_result"
    }
   ],
   "source": [
    "populous = pd.read_csv('./data/new/populous.csv', low_memory=False)\n",
    "populous.shape"
   ]
  },
  {
   "cell_type": "code",
   "execution_count": 8,
   "metadata": {},
   "outputs": [],
   "source": [
    "poor.rename(columns={'id':'business_id'}, inplace=True)\n",
    "rich.rename(columns={'id':'business_id'}, inplace=True)\n",
    "populous.rename(columns={'id':'business_id'}, inplace=True)"
   ]
  },
  {
   "cell_type": "code",
   "execution_count": 9,
   "metadata": {},
   "outputs": [
    {
     "data": {
      "text/plain": [
       "(Index(['zip_code', 'zcta', 'mean_commute_time', 'percent_no_health_insurance',\n",
       "        'percent_below_poverty', 'unemployment_rate', 'median_home_value',\n",
       "        'percent_highschool_or_higher', 'percent_bachelors_or_higher'],\n",
       "       dtype='object'),\n",
       " Index(['zip_code', 'agi'], dtype='object'),\n",
       " Index(['business_id', 'name', 'review_count', 'rating', 'price', 'city',\n",
       "        'state', 'country', 'zip_code', 'categories', 'designation'],\n",
       "       dtype='object'),\n",
       " Index(['business_id', 'name', 'review_count', 'rating', 'price', 'city',\n",
       "        'state', 'country', 'zip_code', 'categories', 'designation'],\n",
       "       dtype='object'),\n",
       " Index(['business_id', 'name', 'review_count', 'rating', 'price', 'city',\n",
       "        'state', 'country', 'zip_code', 'categories', 'designation'],\n",
       "       dtype='object'))"
      ]
     },
     "execution_count": 9,
     "metadata": {},
     "output_type": "execute_result"
    }
   ],
   "source": [
    "eliz.columns, income3.columns, poor.columns, rich.columns, populous.columns"
   ]
  },
  {
   "cell_type": "code",
   "execution_count": 10,
   "metadata": {},
   "outputs": [
    {
     "data": {
      "text/plain": [
       "{'agi',\n",
       " 'business_id',\n",
       " 'categories',\n",
       " 'city',\n",
       " 'country',\n",
       " 'designation',\n",
       " 'mean_commute_time',\n",
       " 'median_home_value',\n",
       " 'name',\n",
       " 'percent_bachelors_or_higher',\n",
       " 'percent_below_poverty',\n",
       " 'percent_highschool_or_higher',\n",
       " 'percent_no_health_insurance',\n",
       " 'price',\n",
       " 'rating',\n",
       " 'review_count',\n",
       " 'state',\n",
       " 'unemployment_rate',\n",
       " 'zcta',\n",
       " 'zip_code'}"
      ]
     },
     "execution_count": 10,
     "metadata": {},
     "output_type": "execute_result"
    }
   ],
   "source": [
    "col = set(['zip_code', 'zcta', 'mean_commute_time', 'percent_no_health_insurance',\n",
    "        'percent_below_poverty', 'unemployment_rate', 'median_home_value',\n",
    "        'percent_highschool_or_higher', 'percent_bachelors_or_higher',\n",
    "'zip_code', 'agi',\n",
    "'business_id', 'name', 'review_count', 'rating', 'price', 'city',\n",
    "        'state', 'country', 'zip_code', 'categories', 'designation',\n",
    "'business_id', 'name', 'review_count', 'rating', 'price', 'city',\n",
    "        'state', 'country', 'zip_code', 'categories', 'designation',\n",
    "\n",
    "'business_id', 'name', 'review_count', 'rating', 'price', 'city',\n",
    "        'state', 'country', 'zip_code', 'categories', 'designation' \n",
    "])\n",
    "\n",
    "col"
   ]
  },
  {
   "cell_type": "code",
   "execution_count": 11,
   "metadata": {},
   "outputs": [],
   "source": [
    "col2 = ['zip_code',\n",
    "        'business_id',\n",
    "        'name',\n",
    "        'price',\n",
    "        'agi',\n",
    "        'city',\n",
    "        'state',\n",
    "        'country',\n",
    "        'designation',\n",
    "        'mean_commute_time',\n",
    "        'median_home_value',\n",
    "        'percent_bachelors_or_higher',\n",
    "        'percent_below_poverty',\n",
    "        'percent_highschool_or_higher',\n",
    "        'percent_no_health_insurance',\n",
    "        'rating',\n",
    "        'review_count',\n",
    "        'unemployment_rate',\n",
    "        'categories',\n",
    "       ]"
   ]
  },
  {
   "cell_type": "markdown",
   "metadata": {},
   "source": [
    "### CONSOLIDATE ALL INTO ONE DATAFRAME"
   ]
  },
  {
   "cell_type": "code",
   "execution_count": 12,
   "metadata": {},
   "outputs": [],
   "source": [
    "mega = pd.DataFrame(columns=col2)"
   ]
  },
  {
   "cell_type": "code",
   "execution_count": 13,
   "metadata": {},
   "outputs": [],
   "source": [
    "mega = pd.concat([poor, rich, populous])"
   ]
  },
  {
   "cell_type": "code",
   "execution_count": 14,
   "metadata": {},
   "outputs": [
    {
     "data": {
      "text/plain": [
       "(116853, 11)"
      ]
     },
     "execution_count": 14,
     "metadata": {},
     "output_type": "execute_result"
    }
   ],
   "source": [
    "mega.shape"
   ]
  },
  {
   "cell_type": "code",
   "execution_count": 15,
   "metadata": {},
   "outputs": [
    {
     "data": {
      "text/plain": [
       "zz_populous    96089\n",
       "very_aff       14237\n",
       "less_aff        6527\n",
       "Name: designation, dtype: int64"
      ]
     },
     "execution_count": 15,
     "metadata": {},
     "output_type": "execute_result"
    }
   ],
   "source": [
    "mega.designation.value_counts()"
   ]
  },
  {
   "cell_type": "code",
   "execution_count": 16,
   "metadata": {},
   "outputs": [],
   "source": [
    "mega = mega[mega['zip_code'].notna()]"
   ]
  },
  {
   "cell_type": "code",
   "execution_count": 17,
   "metadata": {},
   "outputs": [],
   "source": [
    "mega = mega[mega['country']=='US']"
   ]
  },
  {
   "cell_type": "code",
   "execution_count": 18,
   "metadata": {},
   "outputs": [],
   "source": [
    "mega.zip_code = mega.zip_code.astype(int)\n",
    "income3.zip_code = income3.zip_code.astype(int)\n",
    "eliz.zip_code = eliz.zip_code.astype(int)"
   ]
  },
  {
   "cell_type": "code",
   "execution_count": 19,
   "metadata": {},
   "outputs": [],
   "source": [
    "mega = pd.merge(mega, eliz, how='left', on='zip_code')"
   ]
  },
  {
   "cell_type": "code",
   "execution_count": 20,
   "metadata": {},
   "outputs": [],
   "source": [
    "mega = pd.merge(mega, income3, how='left', on='zip_code')"
   ]
  },
  {
   "cell_type": "code",
   "execution_count": 21,
   "metadata": {},
   "outputs": [
    {
     "data": {
      "text/plain": [
       "(116741, 20)"
      ]
     },
     "execution_count": 21,
     "metadata": {},
     "output_type": "execute_result"
    }
   ],
   "source": [
    "mega.shape"
   ]
  },
  {
   "cell_type": "code",
   "execution_count": 22,
   "metadata": {},
   "outputs": [],
   "source": [
    "mega = mega[col2]"
   ]
  },
  {
   "cell_type": "code",
   "execution_count": 23,
   "metadata": {},
   "outputs": [
    {
     "data": {
      "text/plain": [
       "(116741, 19)"
      ]
     },
     "execution_count": 23,
     "metadata": {},
     "output_type": "execute_result"
    }
   ],
   "source": [
    "mega.shape"
   ]
  },
  {
   "cell_type": "code",
   "execution_count": 24,
   "metadata": {},
   "outputs": [
    {
     "data": {
      "text/html": [
       "<div>\n",
       "<style scoped>\n",
       "    .dataframe tbody tr th:only-of-type {\n",
       "        vertical-align: middle;\n",
       "    }\n",
       "\n",
       "    .dataframe tbody tr th {\n",
       "        vertical-align: top;\n",
       "    }\n",
       "\n",
       "    .dataframe thead th {\n",
       "        text-align: right;\n",
       "    }\n",
       "</style>\n",
       "<table border=\"1\" class=\"dataframe\">\n",
       "  <thead>\n",
       "    <tr style=\"text-align: right;\">\n",
       "      <th></th>\n",
       "      <th>zip_code</th>\n",
       "      <th>business_id</th>\n",
       "      <th>name</th>\n",
       "      <th>price</th>\n",
       "      <th>agi</th>\n",
       "      <th>city</th>\n",
       "      <th>state</th>\n",
       "      <th>country</th>\n",
       "      <th>designation</th>\n",
       "      <th>mean_commute_time</th>\n",
       "      <th>median_home_value</th>\n",
       "      <th>percent_bachelors_or_higher</th>\n",
       "      <th>percent_below_poverty</th>\n",
       "      <th>percent_highschool_or_higher</th>\n",
       "      <th>percent_no_health_insurance</th>\n",
       "      <th>rating</th>\n",
       "      <th>review_count</th>\n",
       "      <th>unemployment_rate</th>\n",
       "      <th>categories</th>\n",
       "    </tr>\n",
       "  </thead>\n",
       "  <tbody>\n",
       "    <tr>\n",
       "      <th>0</th>\n",
       "      <td>36703</td>\n",
       "      <td>NWT7RXCslC-50qGTYG-Ktw</td>\n",
       "      <td>Lannie's Bar-B-Q Spot</td>\n",
       "      <td>$</td>\n",
       "      <td>131649.0</td>\n",
       "      <td>Selma</td>\n",
       "      <td>AL</td>\n",
       "      <td>US</td>\n",
       "      <td>less_aff</td>\n",
       "      <td>22.5</td>\n",
       "      <td>78100.0</td>\n",
       "      <td>8.0</td>\n",
       "      <td>15.3</td>\n",
       "      <td>81.1</td>\n",
       "      <td>13.5</td>\n",
       "      <td>4.0</td>\n",
       "      <td>42</td>\n",
       "      <td>19.0</td>\n",
       "      <td>[{'alias': 'bbq', 'title': 'Barbeque'}]</td>\n",
       "    </tr>\n",
       "    <tr>\n",
       "      <th>1</th>\n",
       "      <td>36701</td>\n",
       "      <td>rIeiAGsTWRpQLJixJ7-aLQ</td>\n",
       "      <td>Tally-Ho Restaurant</td>\n",
       "      <td>$$</td>\n",
       "      <td>346157.0</td>\n",
       "      <td>Selma</td>\n",
       "      <td>AL</td>\n",
       "      <td>US</td>\n",
       "      <td>less_aff</td>\n",
       "      <td>20.0</td>\n",
       "      <td>88000.0</td>\n",
       "      <td>17.8</td>\n",
       "      <td>15.0</td>\n",
       "      <td>83.2</td>\n",
       "      <td>11.2</td>\n",
       "      <td>4.0</td>\n",
       "      <td>33</td>\n",
       "      <td>10.5</td>\n",
       "      <td>[{'alias': 'seafood', 'title': 'Seafood'}, {'a...</td>\n",
       "    </tr>\n",
       "    <tr>\n",
       "      <th>2</th>\n",
       "      <td>36701</td>\n",
       "      <td>HXus8XSETzUYWAaBkGbQWA</td>\n",
       "      <td>Lannie's Bar-B-Q</td>\n",
       "      <td>$$</td>\n",
       "      <td>346157.0</td>\n",
       "      <td>Selma</td>\n",
       "      <td>AL</td>\n",
       "      <td>US</td>\n",
       "      <td>less_aff</td>\n",
       "      <td>20.0</td>\n",
       "      <td>88000.0</td>\n",
       "      <td>17.8</td>\n",
       "      <td>15.0</td>\n",
       "      <td>83.2</td>\n",
       "      <td>11.2</td>\n",
       "      <td>4.0</td>\n",
       "      <td>32</td>\n",
       "      <td>10.5</td>\n",
       "      <td>[{'alias': 'bbq', 'title': 'Barbeque'}]</td>\n",
       "    </tr>\n",
       "    <tr>\n",
       "      <th>3</th>\n",
       "      <td>36701</td>\n",
       "      <td>f7LxiSPX7_WI0n_SIlRJzA</td>\n",
       "      <td>Golden Ranch Bar-B-Q &amp; Grill</td>\n",
       "      <td>$$</td>\n",
       "      <td>346157.0</td>\n",
       "      <td>Selma</td>\n",
       "      <td>AL</td>\n",
       "      <td>US</td>\n",
       "      <td>less_aff</td>\n",
       "      <td>20.0</td>\n",
       "      <td>88000.0</td>\n",
       "      <td>17.8</td>\n",
       "      <td>15.0</td>\n",
       "      <td>83.2</td>\n",
       "      <td>11.2</td>\n",
       "      <td>4.0</td>\n",
       "      <td>22</td>\n",
       "      <td>10.5</td>\n",
       "      <td>[{'alias': 'bbq', 'title': 'Barbeque'}, {'alia...</td>\n",
       "    </tr>\n",
       "    <tr>\n",
       "      <th>4</th>\n",
       "      <td>36701</td>\n",
       "      <td>0DvjurvZZw_nndiH3EOUHw</td>\n",
       "      <td>The Sandbar</td>\n",
       "      <td>$</td>\n",
       "      <td>346157.0</td>\n",
       "      <td>Selma</td>\n",
       "      <td>AL</td>\n",
       "      <td>US</td>\n",
       "      <td>less_aff</td>\n",
       "      <td>20.0</td>\n",
       "      <td>88000.0</td>\n",
       "      <td>17.8</td>\n",
       "      <td>15.0</td>\n",
       "      <td>83.2</td>\n",
       "      <td>11.2</td>\n",
       "      <td>3.5</td>\n",
       "      <td>20</td>\n",
       "      <td>10.5</td>\n",
       "      <td>[{'alias': 'sandwiches', 'title': 'Sandwiches'...</td>\n",
       "    </tr>\n",
       "  </tbody>\n",
       "</table>\n",
       "</div>"
      ],
      "text/plain": [
       "   zip_code             business_id                          name price  \\\n",
       "0     36703  NWT7RXCslC-50qGTYG-Ktw         Lannie's Bar-B-Q Spot     $   \n",
       "1     36701  rIeiAGsTWRpQLJixJ7-aLQ           Tally-Ho Restaurant    $$   \n",
       "2     36701  HXus8XSETzUYWAaBkGbQWA              Lannie's Bar-B-Q    $$   \n",
       "3     36701  f7LxiSPX7_WI0n_SIlRJzA  Golden Ranch Bar-B-Q & Grill    $$   \n",
       "4     36701  0DvjurvZZw_nndiH3EOUHw                   The Sandbar     $   \n",
       "\n",
       "        agi   city state country designation  mean_commute_time  \\\n",
       "0  131649.0  Selma    AL      US    less_aff               22.5   \n",
       "1  346157.0  Selma    AL      US    less_aff               20.0   \n",
       "2  346157.0  Selma    AL      US    less_aff               20.0   \n",
       "3  346157.0  Selma    AL      US    less_aff               20.0   \n",
       "4  346157.0  Selma    AL      US    less_aff               20.0   \n",
       "\n",
       "   median_home_value  percent_bachelors_or_higher  percent_below_poverty  \\\n",
       "0            78100.0                          8.0                   15.3   \n",
       "1            88000.0                         17.8                   15.0   \n",
       "2            88000.0                         17.8                   15.0   \n",
       "3            88000.0                         17.8                   15.0   \n",
       "4            88000.0                         17.8                   15.0   \n",
       "\n",
       "   percent_highschool_or_higher  percent_no_health_insurance  rating  \\\n",
       "0                          81.1                         13.5     4.0   \n",
       "1                          83.2                         11.2     4.0   \n",
       "2                          83.2                         11.2     4.0   \n",
       "3                          83.2                         11.2     4.0   \n",
       "4                          83.2                         11.2     3.5   \n",
       "\n",
       "   review_count  unemployment_rate  \\\n",
       "0            42               19.0   \n",
       "1            33               10.5   \n",
       "2            32               10.5   \n",
       "3            22               10.5   \n",
       "4            20               10.5   \n",
       "\n",
       "                                          categories  \n",
       "0            [{'alias': 'bbq', 'title': 'Barbeque'}]  \n",
       "1  [{'alias': 'seafood', 'title': 'Seafood'}, {'a...  \n",
       "2            [{'alias': 'bbq', 'title': 'Barbeque'}]  \n",
       "3  [{'alias': 'bbq', 'title': 'Barbeque'}, {'alia...  \n",
       "4  [{'alias': 'sandwiches', 'title': 'Sandwiches'...  "
      ]
     },
     "execution_count": 24,
     "metadata": {},
     "output_type": "execute_result"
    }
   ],
   "source": [
    "mega.head()"
   ]
  },
  {
   "cell_type": "markdown",
   "metadata": {},
   "source": [
    "### Clean data - evaluate and address nulls/missing values"
   ]
  },
  {
   "cell_type": "code",
   "execution_count": 25,
   "metadata": {},
   "outputs": [
    {
     "data": {
      "text/plain": [
       "(549, 116192)"
      ]
     },
     "execution_count": 25,
     "metadata": {},
     "output_type": "execute_result"
    }
   ],
   "source": [
    "a = mega.agi.isna().sum()\n",
    "b = mega.agi.count()\n",
    "a, b"
   ]
  },
  {
   "cell_type": "code",
   "execution_count": 26,
   "metadata": {},
   "outputs": [
    {
     "data": {
      "text/plain": [
       "0.0047249380335995595"
      ]
     },
     "execution_count": 26,
     "metadata": {},
     "output_type": "execute_result"
    }
   ],
   "source": [
    "a/b\n",
    "# about 19% is missing Income info"
   ]
  },
  {
   "cell_type": "code",
   "execution_count": 27,
   "metadata": {},
   "outputs": [
    {
     "data": {
      "text/plain": [
       "0"
      ]
     },
     "execution_count": 27,
     "metadata": {},
     "output_type": "execute_result"
    }
   ],
   "source": [
    "mega.zip_code.isna().sum()\n",
    "\n",
    "# ALL ZIP Codes are populated"
   ]
  },
  {
   "cell_type": "code",
   "execution_count": 28,
   "metadata": {},
   "outputs": [
    {
     "data": {
      "text/plain": [
       "zz_populous    95998\n",
       "very_aff       14226\n",
       "less_aff        6517\n",
       "Name: designation, dtype: int64"
      ]
     },
     "execution_count": 28,
     "metadata": {},
     "output_type": "execute_result"
    }
   ],
   "source": [
    "mega.designation.value_counts()"
   ]
  },
  {
   "cell_type": "code",
   "execution_count": 29,
   "metadata": {},
   "outputs": [
    {
     "data": {
      "text/plain": [
       "Ross Township        1\n",
       "Bratenahl            1\n",
       "Teays Valley         1\n",
       "El  Paso             1\n",
       "Goodyear             1\n",
       "                  ... \n",
       "Louisville         943\n",
       "Salt Lake City    1059\n",
       "Tucson            1074\n",
       "Houston           1178\n",
       "New York          1186\n",
       "Name: city, Length: 1997, dtype: int64"
      ]
     },
     "execution_count": 29,
     "metadata": {},
     "output_type": "execute_result"
    }
   ],
   "source": [
    "mega.city.value_counts().sort_values(ascending=True)"
   ]
  },
  {
   "cell_type": "code",
   "execution_count": 30,
   "metadata": {},
   "outputs": [
    {
     "data": {
      "text/plain": [
       "0"
      ]
     },
     "execution_count": 30,
     "metadata": {},
     "output_type": "execute_result"
    }
   ],
   "source": [
    "mega.city.isna().sum()"
   ]
  },
  {
   "cell_type": "code",
   "execution_count": 31,
   "metadata": {},
   "outputs": [
    {
     "data": {
      "text/plain": [
       "0"
      ]
     },
     "execution_count": 31,
     "metadata": {},
     "output_type": "execute_result"
    }
   ],
   "source": [
    "mega.price.isna().sum()"
   ]
  },
  {
   "cell_type": "code",
   "execution_count": 32,
   "metadata": {},
   "outputs": [
    {
     "data": {
      "text/html": [
       "<div>\n",
       "<style scoped>\n",
       "    .dataframe tbody tr th:only-of-type {\n",
       "        vertical-align: middle;\n",
       "    }\n",
       "\n",
       "    .dataframe tbody tr th {\n",
       "        vertical-align: top;\n",
       "    }\n",
       "\n",
       "    .dataframe thead th {\n",
       "        text-align: right;\n",
       "    }\n",
       "</style>\n",
       "<table border=\"1\" class=\"dataframe\">\n",
       "  <thead>\n",
       "    <tr style=\"text-align: right;\">\n",
       "      <th></th>\n",
       "      <th>zip_code</th>\n",
       "      <th>agi</th>\n",
       "      <th>mean_commute_time</th>\n",
       "      <th>median_home_value</th>\n",
       "      <th>percent_bachelors_or_higher</th>\n",
       "      <th>percent_below_poverty</th>\n",
       "      <th>percent_highschool_or_higher</th>\n",
       "      <th>percent_no_health_insurance</th>\n",
       "      <th>rating</th>\n",
       "      <th>review_count</th>\n",
       "      <th>unemployment_rate</th>\n",
       "    </tr>\n",
       "  </thead>\n",
       "  <tbody>\n",
       "    <tr>\n",
       "      <th>count</th>\n",
       "      <td>116741.000000</td>\n",
       "      <td>1.161920e+05</td>\n",
       "      <td>116517.000000</td>\n",
       "      <td>1.159170e+05</td>\n",
       "      <td>116603.000000</td>\n",
       "      <td>116429.000000</td>\n",
       "      <td>116603.000000</td>\n",
       "      <td>116591.000000</td>\n",
       "      <td>116741.000000</td>\n",
       "      <td>116741.000000</td>\n",
       "      <td>116598.000000</td>\n",
       "    </tr>\n",
       "    <tr>\n",
       "      <th>mean</th>\n",
       "      <td>59864.450793</td>\n",
       "      <td>1.229326e+06</td>\n",
       "      <td>23.729497</td>\n",
       "      <td>3.152794e+05</td>\n",
       "      <td>40.642932</td>\n",
       "      <td>11.563820</td>\n",
       "      <td>88.367382</td>\n",
       "      <td>10.806892</td>\n",
       "      <td>3.682241</td>\n",
       "      <td>206.327134</td>\n",
       "      <td>6.410472</td>\n",
       "    </tr>\n",
       "    <tr>\n",
       "      <th>std</th>\n",
       "      <td>29864.153474</td>\n",
       "      <td>1.016815e+06</td>\n",
       "      <td>5.372550</td>\n",
       "      <td>2.345621e+05</td>\n",
       "      <td>18.918612</td>\n",
       "      <td>8.464273</td>\n",
       "      <td>8.850941</td>\n",
       "      <td>6.399209</td>\n",
       "      <td>0.803594</td>\n",
       "      <td>396.845775</td>\n",
       "      <td>3.219454</td>\n",
       "    </tr>\n",
       "    <tr>\n",
       "      <th>min</th>\n",
       "      <td>1069.000000</td>\n",
       "      <td>2.098000e+03</td>\n",
       "      <td>1.000000</td>\n",
       "      <td>1.580000e+04</td>\n",
       "      <td>0.000000</td>\n",
       "      <td>0.000000</td>\n",
       "      <td>36.100000</td>\n",
       "      <td>0.000000</td>\n",
       "      <td>1.000000</td>\n",
       "      <td>1.000000</td>\n",
       "      <td>0.000000</td>\n",
       "    </tr>\n",
       "    <tr>\n",
       "      <th>25%</th>\n",
       "      <td>33067.000000</td>\n",
       "      <td>5.852230e+05</td>\n",
       "      <td>19.700000</td>\n",
       "      <td>1.674000e+05</td>\n",
       "      <td>25.200000</td>\n",
       "      <td>6.000000</td>\n",
       "      <td>84.400000</td>\n",
       "      <td>6.100000</td>\n",
       "      <td>3.500000</td>\n",
       "      <td>26.000000</td>\n",
       "      <td>4.200000</td>\n",
       "    </tr>\n",
       "    <tr>\n",
       "      <th>50%</th>\n",
       "      <td>68114.000000</td>\n",
       "      <td>9.990150e+05</td>\n",
       "      <td>22.700000</td>\n",
       "      <td>2.474000e+05</td>\n",
       "      <td>39.300000</td>\n",
       "      <td>9.100000</td>\n",
       "      <td>90.900000</td>\n",
       "      <td>9.300000</td>\n",
       "      <td>4.000000</td>\n",
       "      <td>75.000000</td>\n",
       "      <td>5.700000</td>\n",
       "    </tr>\n",
       "    <tr>\n",
       "      <th>75%</th>\n",
       "      <td>89101.000000</td>\n",
       "      <td>1.586059e+06</td>\n",
       "      <td>27.100000</td>\n",
       "      <td>3.909000e+05</td>\n",
       "      <td>53.900000</td>\n",
       "      <td>14.500000</td>\n",
       "      <td>94.700000</td>\n",
       "      <td>14.000000</td>\n",
       "      <td>4.000000</td>\n",
       "      <td>223.000000</td>\n",
       "      <td>7.700000</td>\n",
       "    </tr>\n",
       "    <tr>\n",
       "      <th>max</th>\n",
       "      <td>99903.000000</td>\n",
       "      <td>1.176666e+07</td>\n",
       "      <td>50.400000</td>\n",
       "      <td>2.000000e+06</td>\n",
       "      <td>100.000000</td>\n",
       "      <td>100.000000</td>\n",
       "      <td>100.000000</td>\n",
       "      <td>46.000000</td>\n",
       "      <td>5.000000</td>\n",
       "      <td>13528.000000</td>\n",
       "      <td>46.600000</td>\n",
       "    </tr>\n",
       "  </tbody>\n",
       "</table>\n",
       "</div>"
      ],
      "text/plain": [
       "            zip_code           agi  mean_commute_time  median_home_value  \\\n",
       "count  116741.000000  1.161920e+05      116517.000000       1.159170e+05   \n",
       "mean    59864.450793  1.229326e+06          23.729497       3.152794e+05   \n",
       "std     29864.153474  1.016815e+06           5.372550       2.345621e+05   \n",
       "min      1069.000000  2.098000e+03           1.000000       1.580000e+04   \n",
       "25%     33067.000000  5.852230e+05          19.700000       1.674000e+05   \n",
       "50%     68114.000000  9.990150e+05          22.700000       2.474000e+05   \n",
       "75%     89101.000000  1.586059e+06          27.100000       3.909000e+05   \n",
       "max     99903.000000  1.176666e+07          50.400000       2.000000e+06   \n",
       "\n",
       "       percent_bachelors_or_higher  percent_below_poverty  \\\n",
       "count                116603.000000          116429.000000   \n",
       "mean                     40.642932              11.563820   \n",
       "std                      18.918612               8.464273   \n",
       "min                       0.000000               0.000000   \n",
       "25%                      25.200000               6.000000   \n",
       "50%                      39.300000               9.100000   \n",
       "75%                      53.900000              14.500000   \n",
       "max                     100.000000             100.000000   \n",
       "\n",
       "       percent_highschool_or_higher  percent_no_health_insurance  \\\n",
       "count                 116603.000000                116591.000000   \n",
       "mean                      88.367382                    10.806892   \n",
       "std                        8.850941                     6.399209   \n",
       "min                       36.100000                     0.000000   \n",
       "25%                       84.400000                     6.100000   \n",
       "50%                       90.900000                     9.300000   \n",
       "75%                       94.700000                    14.000000   \n",
       "max                      100.000000                    46.000000   \n",
       "\n",
       "              rating   review_count  unemployment_rate  \n",
       "count  116741.000000  116741.000000      116598.000000  \n",
       "mean        3.682241     206.327134           6.410472  \n",
       "std         0.803594     396.845775           3.219454  \n",
       "min         1.000000       1.000000           0.000000  \n",
       "25%         3.500000      26.000000           4.200000  \n",
       "50%         4.000000      75.000000           5.700000  \n",
       "75%         4.000000     223.000000           7.700000  \n",
       "max         5.000000   13528.000000          46.600000  "
      ]
     },
     "execution_count": 32,
     "metadata": {},
     "output_type": "execute_result"
    }
   ],
   "source": [
    "mega.describe()"
   ]
  },
  {
   "cell_type": "code",
   "execution_count": 33,
   "metadata": {},
   "outputs": [
    {
     "name": "stdout",
     "output_type": "stream",
     "text": [
      "<class 'pandas.core.frame.DataFrame'>\n",
      "Int64Index: 116741 entries, 0 to 116740\n",
      "Data columns (total 19 columns):\n",
      " #   Column                        Non-Null Count   Dtype  \n",
      "---  ------                        --------------   -----  \n",
      " 0   zip_code                      116741 non-null  int32  \n",
      " 1   business_id                   116741 non-null  object \n",
      " 2   name                          116741 non-null  object \n",
      " 3   price                         116741 non-null  object \n",
      " 4   agi                           116192 non-null  float64\n",
      " 5   city                          116741 non-null  object \n",
      " 6   state                         116741 non-null  object \n",
      " 7   country                       116741 non-null  object \n",
      " 8   designation                   116741 non-null  object \n",
      " 9   mean_commute_time             116517 non-null  float64\n",
      " 10  median_home_value             115917 non-null  float64\n",
      " 11  percent_bachelors_or_higher   116603 non-null  float64\n",
      " 12  percent_below_poverty         116429 non-null  float64\n",
      " 13  percent_highschool_or_higher  116603 non-null  float64\n",
      " 14  percent_no_health_insurance   116591 non-null  float64\n",
      " 15  rating                        116741 non-null  float64\n",
      " 16  review_count                  116741 non-null  int64  \n",
      " 17  unemployment_rate             116598 non-null  float64\n",
      " 18  categories                    116741 non-null  object \n",
      "dtypes: float64(9), int32(1), int64(1), object(8)\n",
      "memory usage: 17.4+ MB\n"
     ]
    }
   ],
   "source": [
    "mega.info()"
   ]
  },
  {
   "cell_type": "code",
   "execution_count": 34,
   "metadata": {},
   "outputs": [
    {
     "data": {
      "text/plain": [
       "(824, 0.1926839945837533)"
      ]
     },
     "execution_count": 34,
     "metadata": {},
     "output_type": "execute_result"
    }
   ],
   "source": [
    "mega.median_home_value.isna().sum(), 18926/98223\n",
    "# about 19K are null  (~20%)"
   ]
  },
  {
   "cell_type": "code",
   "execution_count": 40,
   "metadata": {},
   "outputs": [],
   "source": [
    "fin = final.query('agi > 0 and median_home_value > 0').copy()"
   ]
  },
  {
   "cell_type": "code",
   "execution_count": 41,
   "metadata": {},
   "outputs": [
    {
     "data": {
      "text/plain": [
       "((116741, 19), (115544, 19))"
      ]
     },
     "execution_count": 41,
     "metadata": {},
     "output_type": "execute_result"
    }
   ],
   "source": [
    "final.shape, fin.shape"
   ]
  },
  {
   "cell_type": "code",
   "execution_count": 42,
   "metadata": {},
   "outputs": [
    {
     "data": {
      "text/plain": [
       "zz_populous    94909\n",
       "very_aff       14153\n",
       "less_aff        6482\n",
       "Name: designation, dtype: int64"
      ]
     },
     "execution_count": 42,
     "metadata": {},
     "output_type": "execute_result"
    }
   ],
   "source": [
    "fin.designation.value_counts()"
   ]
  },
  {
   "cell_type": "code",
   "execution_count": 43,
   "metadata": {},
   "outputs": [
    {
     "data": {
      "text/plain": [
       "0"
      ]
     },
     "execution_count": 43,
     "metadata": {},
     "output_type": "execute_result"
    }
   ],
   "source": [
    "fin.agi.isna().sum()"
   ]
  },
  {
   "cell_type": "code",
   "execution_count": 44,
   "metadata": {},
   "outputs": [
    {
     "data": {
      "text/plain": [
       "0"
      ]
     },
     "execution_count": 44,
     "metadata": {},
     "output_type": "execute_result"
    }
   ],
   "source": [
    "fin.price.isna().sum()"
   ]
  },
  {
   "cell_type": "code",
   "execution_count": 47,
   "metadata": {},
   "outputs": [
    {
     "data": {
      "text/plain": [
       "US    115544\n",
       "Name: country, dtype: int64"
      ]
     },
     "execution_count": 47,
     "metadata": {},
     "output_type": "execute_result"
    }
   ],
   "source": [
    "fin.country.value_counts()"
   ]
  },
  {
   "cell_type": "code",
   "execution_count": 48,
   "metadata": {},
   "outputs": [
    {
     "data": {
      "text/plain": [
       "zz_populous    94909\n",
       "very_aff       14153\n",
       "less_aff        6482\n",
       "Name: designation, dtype: int64"
      ]
     },
     "execution_count": 48,
     "metadata": {},
     "output_type": "execute_result"
    }
   ],
   "source": [
    "fin.designation.value_counts()"
   ]
  },
  {
   "cell_type": "markdown",
   "metadata": {},
   "source": [
    "### Eliminate any duplicates if any"
   ]
  },
  {
   "cell_type": "code",
   "execution_count": 51,
   "metadata": {},
   "outputs": [],
   "source": [
    "# Sort to facilitate this\n",
    "fin.sort_values(by=['name', 'city', 'state', 'zip_code'], inplace=True)"
   ]
  },
  {
   "cell_type": "code",
   "execution_count": 52,
   "metadata": {},
   "outputs": [
    {
     "data": {
      "text/plain": [
       "(115544, 19)"
      ]
     },
     "execution_count": 52,
     "metadata": {},
     "output_type": "execute_result"
    }
   ],
   "source": [
    "fin.shape"
   ]
  },
  {
   "cell_type": "code",
   "execution_count": 54,
   "metadata": {},
   "outputs": [],
   "source": [
    "fin.drop_duplicates(subset=['name', 'city', 'state', 'zip_code'], inplace=True)"
   ]
  },
  {
   "cell_type": "code",
   "execution_count": 56,
   "metadata": {},
   "outputs": [
    {
     "data": {
      "text/plain": [
       "(105691, 19)"
      ]
     },
     "execution_count": 56,
     "metadata": {},
     "output_type": "execute_result"
    }
   ],
   "source": [
    "fin.shape\n",
    "# Eliminated ~10K duplicates"
   ]
  },
  {
   "cell_type": "code",
   "execution_count": 61,
   "metadata": {},
   "outputs": [],
   "source": [
    "fin.dropna(inplace=True)"
   ]
  },
  {
   "cell_type": "code",
   "execution_count": 63,
   "metadata": {},
   "outputs": [
    {
     "data": {
      "text/plain": [
       "(105679, 19)"
      ]
     },
     "execution_count": 63,
     "metadata": {},
     "output_type": "execute_result"
    }
   ],
   "source": [
    "fin.shape\n",
    "# No other data loss"
   ]
  },
  {
   "cell_type": "code",
   "execution_count": 64,
   "metadata": {},
   "outputs": [
    {
     "data": {
      "text/plain": [
       "zip_code                        0\n",
       "business_id                     0\n",
       "name                            0\n",
       "price                           0\n",
       "agi                             0\n",
       "city                            0\n",
       "state                           0\n",
       "country                         0\n",
       "designation                     0\n",
       "mean_commute_time               0\n",
       "median_home_value               0\n",
       "percent_bachelors_or_higher     0\n",
       "percent_below_poverty           0\n",
       "percent_highschool_or_higher    0\n",
       "percent_no_health_insurance     0\n",
       "rating                          0\n",
       "review_count                    0\n",
       "unemployment_rate               0\n",
       "categories                      0\n",
       "dtype: int64"
      ]
     },
     "execution_count": 64,
     "metadata": {},
     "output_type": "execute_result"
    }
   ],
   "source": [
    "fin.isna().sum()"
   ]
  },
  {
   "cell_type": "code",
   "execution_count": 68,
   "metadata": {},
   "outputs": [
    {
     "data": {
      "text/plain": [
       "zip_code                        0\n",
       "business_id                     0\n",
       "name                            0\n",
       "price                           0\n",
       "agi                             0\n",
       "city                            0\n",
       "state                           0\n",
       "country                         0\n",
       "designation                     0\n",
       "mean_commute_time               0\n",
       "median_home_value               0\n",
       "percent_bachelors_or_higher     0\n",
       "percent_below_poverty           0\n",
       "percent_highschool_or_higher    0\n",
       "percent_no_health_insurance     0\n",
       "rating                          0\n",
       "review_count                    0\n",
       "unemployment_rate               0\n",
       "categories                      0\n",
       "dtype: int64"
      ]
     },
     "execution_count": 68,
     "metadata": {},
     "output_type": "execute_result"
    }
   ],
   "source": [
    "(fin==np.nan).sum()"
   ]
  },
  {
   "cell_type": "markdown",
   "metadata": {},
   "source": [
    "### Export Prepared DataFrame to CSV for next phases"
   ]
  },
  {
   "cell_type": "code",
   "execution_count": 69,
   "metadata": {},
   "outputs": [],
   "source": [
    "fin.to_csv('./data/new/final_consolidated_v3.csv', index=False)"
   ]
  }
 ],
 "metadata": {
  "kernelspec": {
   "display_name": "Python 3",
   "language": "python",
   "name": "python3"
  },
  "language_info": {
   "codemirror_mode": {
    "name": "ipython",
    "version": 3
   },
   "file_extension": ".py",
   "mimetype": "text/x-python",
   "name": "python",
   "nbconvert_exporter": "python",
   "pygments_lexer": "ipython3",
   "version": "3.7.4"
  }
 },
 "nbformat": 4,
 "nbformat_minor": 2
}
