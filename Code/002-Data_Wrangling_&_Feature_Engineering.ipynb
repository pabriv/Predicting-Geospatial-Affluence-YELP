{
 "cells": [
  {
   "cell_type": "markdown",
   "metadata": {},
   "source": [
    "### Import files"
   ]
  },
  {
   "cell_type": "code",
   "execution_count": 1,
   "metadata": {},
   "outputs": [
    {
     "data": {
      "application/javascript": [
       "\n",
       "        if (window._pyforest_update_imports_cell) { window._pyforest_update_imports_cell('import pandas as pd'); }\n",
       "    "
      ],
      "text/plain": [
       "<IPython.core.display.Javascript object>"
      ]
     },
     "metadata": {},
     "output_type": "display_data"
    }
   ],
   "source": [
    "df = pd.read_csv('megamega.csv')"
   ]
  },
  {
   "cell_type": "code",
   "execution_count": 2,
   "metadata": {},
   "outputs": [
    {
     "data": {
      "text/plain": [
       "3454"
      ]
     },
     "execution_count": 2,
     "metadata": {},
     "output_type": "execute_result"
    }
   ],
   "source": [
    "len(df['zip_code'].value_counts())\n",
    "#3454 unique zip codes"
   ]
  },
  {
   "cell_type": "markdown",
   "metadata": {},
   "source": [
    "### Aggregate all mean values"
   ]
  },
  {
   "cell_type": "markdown",
   "metadata": {},
   "source": [
    "We are going to create the price weight control features with the mean summation values: Price weight, price weight control, and v2."
   ]
  },
  {
   "cell_type": "code",
   "execution_count": 3,
   "metadata": {},
   "outputs": [],
   "source": [
    "df['price_weight'] = df['price']*df['review_count']*df['rating']"
   ]
  },
  {
   "cell_type": "code",
   "execution_count": 4,
   "metadata": {},
   "outputs": [],
   "source": [
    "df['price_weight_contr'] = df['price_weight'] / df['population'] * 100"
   ]
  },
  {
   "cell_type": "code",
   "execution_count": 5,
   "metadata": {},
   "outputs": [],
   "source": [
    "df['price_weight_contrv2'] = df['price_weight_contr'] / df['review_count']*100"
   ]
  },
  {
   "cell_type": "code",
   "execution_count": 6,
   "metadata": {},
   "outputs": [],
   "source": [
    "mini = df.groupby('zip_code').agg(\"mean\")"
   ]
  },
  {
   "cell_type": "code",
   "execution_count": 7,
   "metadata": {},
   "outputs": [],
   "source": [
    "mini.drop(columns = ['median_price_sq_ft_2017'], inplace = True)"
   ]
  },
  {
   "cell_type": "code",
   "execution_count": 8,
   "metadata": {},
   "outputs": [],
   "source": [
    "mini['zip_code'] = mini.index"
   ]
  },
  {
   "cell_type": "code",
   "execution_count": 9,
   "metadata": {},
   "outputs": [],
   "source": [
    "mini.reset_index(drop = 'zip_code', inplace = True)"
   ]
  },
  {
   "cell_type": "markdown",
   "metadata": {},
   "source": [
    "### Aggregate all sum values"
   ]
  },
  {
   "cell_type": "markdown",
   "metadata": {},
   "source": [
    "By aggregating the sum values of the original dataframe, we were able to get a summation of 1 star, 3 and above star, and a 4 star counter per zip code."
   ]
  },
  {
   "cell_type": "code",
   "execution_count": 10,
   "metadata": {},
   "outputs": [],
   "source": [
    "df['high_price']  = df['price'].map(lambda x: 1 if x>2 else 0)"
   ]
  },
  {
   "cell_type": "code",
   "execution_count": 11,
   "metadata": {},
   "outputs": [],
   "source": [
    "df['4_star']  = df['price'].map(lambda x: 1 if x>3 else 0)"
   ]
  },
  {
   "cell_type": "code",
   "execution_count": 13,
   "metadata": {},
   "outputs": [],
   "source": [
    "df['1_star']  = df['price'].map(lambda x: 1 if x==1 else 0)"
   ]
  },
  {
   "cell_type": "code",
   "execution_count": 15,
   "metadata": {},
   "outputs": [],
   "source": [
    "mini_sum = df.groupby('zip_code').agg('sum')"
   ]
  },
  {
   "cell_type": "code",
   "execution_count": 16,
   "metadata": {},
   "outputs": [],
   "source": [
    "mini_sum['zip_code'] = mini_sum.index"
   ]
  },
  {
   "cell_type": "code",
   "execution_count": 31,
   "metadata": {},
   "outputs": [],
   "source": [
    "mini_sum.reset_index(drop = 'zip_code', inplace = True)"
   ]
  },
  {
   "cell_type": "code",
   "execution_count": 19,
   "metadata": {},
   "outputs": [],
   "source": [
    "mini_sum.drop(columns = ['price', 'percent_bachelors_or_higher', 'mean_commute_time', 'median_home_value', 'percent_bachelors_or_higher', 'percent_below_poverty', 'percent_highschool_or_higher', 'percent_no_health_insurance', 'rating', 'review_count', 'unemployment_rate', 'median_household_income', 'median_price_sq_ft_2017', 'population', 'density', 'income_category', 'price_weight', 'price_weight_contr', 'price_weight_contrv2'], inplace = True)"
   ]
  },
  {
   "cell_type": "code",
   "execution_count": 37,
   "metadata": {},
   "outputs": [
    {
     "data": {
      "application/javascript": [
       "\n",
       "        if (window._pyforest_update_imports_cell) { window._pyforest_update_imports_cell('import pandas as pd'); }\n",
       "    "
      ],
      "text/plain": [
       "<IPython.core.display.Javascript object>"
      ]
     },
     "metadata": {},
     "output_type": "display_data"
    }
   ],
   "source": [
    "mini_final = pd.concat([mini, mini_sum], axis=1)"
   ]
  },
  {
   "cell_type": "code",
   "execution_count": 38,
   "metadata": {},
   "outputs": [
    {
     "data": {
      "text/html": [
       "<div>\n",
       "<style scoped>\n",
       "    .dataframe tbody tr th:only-of-type {\n",
       "        vertical-align: middle;\n",
       "    }\n",
       "\n",
       "    .dataframe tbody tr th {\n",
       "        vertical-align: top;\n",
       "    }\n",
       "\n",
       "    .dataframe thead th {\n",
       "        text-align: right;\n",
       "    }\n",
       "</style>\n",
       "<table border=\"1\" class=\"dataframe\">\n",
       "  <thead>\n",
       "    <tr style=\"text-align: right;\">\n",
       "      <th></th>\n",
       "      <th>price</th>\n",
       "      <th>mean_commute_time</th>\n",
       "      <th>median_home_value</th>\n",
       "      <th>percent_bachelors_or_higher</th>\n",
       "      <th>percent_below_poverty</th>\n",
       "      <th>percent_highschool_or_higher</th>\n",
       "      <th>percent_no_health_insurance</th>\n",
       "      <th>rating</th>\n",
       "      <th>review_count</th>\n",
       "      <th>unemployment_rate</th>\n",
       "      <th>...</th>\n",
       "      <th>density</th>\n",
       "      <th>income_category</th>\n",
       "      <th>price_weight</th>\n",
       "      <th>price_weight_contr</th>\n",
       "      <th>price_weight_contrv2</th>\n",
       "      <th>zip_code</th>\n",
       "      <th>high_price</th>\n",
       "      <th>4_star</th>\n",
       "      <th>1_star</th>\n",
       "      <th>zip_code</th>\n",
       "    </tr>\n",
       "  </thead>\n",
       "  <tbody>\n",
       "    <tr>\n",
       "      <th>0</th>\n",
       "      <td>3.000000</td>\n",
       "      <td>28.1</td>\n",
       "      <td>197100.0</td>\n",
       "      <td>29.2</td>\n",
       "      <td>5.4</td>\n",
       "      <td>92.6</td>\n",
       "      <td>3.4</td>\n",
       "      <td>4.500000</td>\n",
       "      <td>2.000000</td>\n",
       "      <td>6.9</td>\n",
       "      <td>...</td>\n",
       "      <td>116.4</td>\n",
       "      <td>1.0</td>\n",
       "      <td>27.000000</td>\n",
       "      <td>0.310416</td>\n",
       "      <td>15.520809</td>\n",
       "      <td>1069</td>\n",
       "      <td>1</td>\n",
       "      <td>0</td>\n",
       "      <td>0</td>\n",
       "      <td>1069</td>\n",
       "    </tr>\n",
       "    <tr>\n",
       "      <th>1</th>\n",
       "      <td>2.500000</td>\n",
       "      <td>17.8</td>\n",
       "      <td>174600.0</td>\n",
       "      <td>28.8</td>\n",
       "      <td>9.0</td>\n",
       "      <td>90.2</td>\n",
       "      <td>2.6</td>\n",
       "      <td>4.250000</td>\n",
       "      <td>9.500000</td>\n",
       "      <td>7.8</td>\n",
       "      <td>...</td>\n",
       "      <td>339.2</td>\n",
       "      <td>0.0</td>\n",
       "      <td>84.250000</td>\n",
       "      <td>0.188872</td>\n",
       "      <td>2.409936</td>\n",
       "      <td>1201</td>\n",
       "      <td>1</td>\n",
       "      <td>0</td>\n",
       "      <td>0</td>\n",
       "      <td>1201</td>\n",
       "    </tr>\n",
       "    <tr>\n",
       "      <th>2</th>\n",
       "      <td>1.500000</td>\n",
       "      <td>23.7</td>\n",
       "      <td>152000.0</td>\n",
       "      <td>22.6</td>\n",
       "      <td>8.6</td>\n",
       "      <td>88.1</td>\n",
       "      <td>1.7</td>\n",
       "      <td>4.250000</td>\n",
       "      <td>14.500000</td>\n",
       "      <td>6.5</td>\n",
       "      <td>...</td>\n",
       "      <td>135.1</td>\n",
       "      <td>0.0</td>\n",
       "      <td>98.875000</td>\n",
       "      <td>1.204471</td>\n",
       "      <td>7.461323</td>\n",
       "      <td>1220</td>\n",
       "      <td>0</td>\n",
       "      <td>0</td>\n",
       "      <td>2</td>\n",
       "      <td>1220</td>\n",
       "    </tr>\n",
       "    <tr>\n",
       "      <th>3</th>\n",
       "      <td>1.625000</td>\n",
       "      <td>19.2</td>\n",
       "      <td>153300.0</td>\n",
       "      <td>24.4</td>\n",
       "      <td>8.8</td>\n",
       "      <td>85.2</td>\n",
       "      <td>3.5</td>\n",
       "      <td>3.589286</td>\n",
       "      <td>29.500000</td>\n",
       "      <td>9.5</td>\n",
       "      <td>...</td>\n",
       "      <td>118.2</td>\n",
       "      <td>0.0</td>\n",
       "      <td>215.267857</td>\n",
       "      <td>1.382315</td>\n",
       "      <td>3.824155</td>\n",
       "      <td>1247</td>\n",
       "      <td>3</td>\n",
       "      <td>0</td>\n",
       "      <td>24</td>\n",
       "      <td>1247</td>\n",
       "    </tr>\n",
       "    <tr>\n",
       "      <th>4</th>\n",
       "      <td>2.000000</td>\n",
       "      <td>25.8</td>\n",
       "      <td>279500.0</td>\n",
       "      <td>46.3</td>\n",
       "      <td>7.0</td>\n",
       "      <td>96.3</td>\n",
       "      <td>1.1</td>\n",
       "      <td>3.000000</td>\n",
       "      <td>14.000000</td>\n",
       "      <td>5.6</td>\n",
       "      <td>...</td>\n",
       "      <td>73.5</td>\n",
       "      <td>2.0</td>\n",
       "      <td>84.000000</td>\n",
       "      <td>1.812689</td>\n",
       "      <td>12.947777</td>\n",
       "      <td>1373</td>\n",
       "      <td>0</td>\n",
       "      <td>0</td>\n",
       "      <td>0</td>\n",
       "      <td>1373</td>\n",
       "    </tr>\n",
       "    <tr>\n",
       "      <th>...</th>\n",
       "      <td>...</td>\n",
       "      <td>...</td>\n",
       "      <td>...</td>\n",
       "      <td>...</td>\n",
       "      <td>...</td>\n",
       "      <td>...</td>\n",
       "      <td>...</td>\n",
       "      <td>...</td>\n",
       "      <td>...</td>\n",
       "      <td>...</td>\n",
       "      <td>...</td>\n",
       "      <td>...</td>\n",
       "      <td>...</td>\n",
       "      <td>...</td>\n",
       "      <td>...</td>\n",
       "      <td>...</td>\n",
       "      <td>...</td>\n",
       "      <td>...</td>\n",
       "      <td>...</td>\n",
       "      <td>...</td>\n",
       "      <td>...</td>\n",
       "    </tr>\n",
       "    <tr>\n",
       "      <th>3449</th>\n",
       "      <td>1.917808</td>\n",
       "      <td>16.9</td>\n",
       "      <td>315600.0</td>\n",
       "      <td>32.5</td>\n",
       "      <td>10.2</td>\n",
       "      <td>93.1</td>\n",
       "      <td>12.5</td>\n",
       "      <td>3.479452</td>\n",
       "      <td>61.493151</td>\n",
       "      <td>5.0</td>\n",
       "      <td>...</td>\n",
       "      <td>818.8</td>\n",
       "      <td>3.0</td>\n",
       "      <td>424.835616</td>\n",
       "      <td>1.815382</td>\n",
       "      <td>2.841930</td>\n",
       "      <td>99515</td>\n",
       "      <td>5</td>\n",
       "      <td>0</td>\n",
       "      <td>11</td>\n",
       "      <td>99515</td>\n",
       "    </tr>\n",
       "    <tr>\n",
       "      <th>3450</th>\n",
       "      <td>1.888889</td>\n",
       "      <td>17.1</td>\n",
       "      <td>304100.0</td>\n",
       "      <td>36.0</td>\n",
       "      <td>2.5</td>\n",
       "      <td>93.0</td>\n",
       "      <td>17.2</td>\n",
       "      <td>3.944444</td>\n",
       "      <td>52.444444</td>\n",
       "      <td>5.8</td>\n",
       "      <td>...</td>\n",
       "      <td>1961.8</td>\n",
       "      <td>3.0</td>\n",
       "      <td>404.666667</td>\n",
       "      <td>2.466728</td>\n",
       "      <td>4.504047</td>\n",
       "      <td>99517</td>\n",
       "      <td>0</td>\n",
       "      <td>0</td>\n",
       "      <td>1</td>\n",
       "      <td>99517</td>\n",
       "    </tr>\n",
       "    <tr>\n",
       "      <th>3451</th>\n",
       "      <td>1.800000</td>\n",
       "      <td>16.0</td>\n",
       "      <td>253200.0</td>\n",
       "      <td>29.3</td>\n",
       "      <td>1.0</td>\n",
       "      <td>93.8</td>\n",
       "      <td>17.2</td>\n",
       "      <td>3.542857</td>\n",
       "      <td>55.000000</td>\n",
       "      <td>3.9</td>\n",
       "      <td>...</td>\n",
       "      <td>1044.5</td>\n",
       "      <td>2.0</td>\n",
       "      <td>335.242857</td>\n",
       "      <td>3.208066</td>\n",
       "      <td>5.946685</td>\n",
       "      <td>99518</td>\n",
       "      <td>3</td>\n",
       "      <td>0</td>\n",
       "      <td>10</td>\n",
       "      <td>99518</td>\n",
       "    </tr>\n",
       "    <tr>\n",
       "      <th>3452</th>\n",
       "      <td>2.000000</td>\n",
       "      <td>32.6</td>\n",
       "      <td>247200.0</td>\n",
       "      <td>26.0</td>\n",
       "      <td>6.2</td>\n",
       "      <td>93.6</td>\n",
       "      <td>14.9</td>\n",
       "      <td>5.000000</td>\n",
       "      <td>22.000000</td>\n",
       "      <td>8.3</td>\n",
       "      <td>...</td>\n",
       "      <td>22.0</td>\n",
       "      <td>2.0</td>\n",
       "      <td>220.000000</td>\n",
       "      <td>0.722496</td>\n",
       "      <td>3.284072</td>\n",
       "      <td>99645</td>\n",
       "      <td>0</td>\n",
       "      <td>0</td>\n",
       "      <td>0</td>\n",
       "      <td>99645</td>\n",
       "    </tr>\n",
       "    <tr>\n",
       "      <th>3453</th>\n",
       "      <td>1.900990</td>\n",
       "      <td>13.5</td>\n",
       "      <td>265700.0</td>\n",
       "      <td>24.1</td>\n",
       "      <td>3.2</td>\n",
       "      <td>91.9</td>\n",
       "      <td>14.1</td>\n",
       "      <td>3.762376</td>\n",
       "      <td>23.079208</td>\n",
       "      <td>7.0</td>\n",
       "      <td>...</td>\n",
       "      <td>1.1</td>\n",
       "      <td>2.0</td>\n",
       "      <td>162.836634</td>\n",
       "      <td>1.178439</td>\n",
       "      <td>5.133926</td>\n",
       "      <td>99901</td>\n",
       "      <td>13</td>\n",
       "      <td>0</td>\n",
       "      <td>23</td>\n",
       "      <td>99901</td>\n",
       "    </tr>\n",
       "  </tbody>\n",
       "</table>\n",
       "<p>3454 rows × 22 columns</p>\n",
       "</div>"
      ],
      "text/plain": [
       "         price  mean_commute_time  median_home_value  \\\n",
       "0     3.000000               28.1           197100.0   \n",
       "1     2.500000               17.8           174600.0   \n",
       "2     1.500000               23.7           152000.0   \n",
       "3     1.625000               19.2           153300.0   \n",
       "4     2.000000               25.8           279500.0   \n",
       "...        ...                ...                ...   \n",
       "3449  1.917808               16.9           315600.0   \n",
       "3450  1.888889               17.1           304100.0   \n",
       "3451  1.800000               16.0           253200.0   \n",
       "3452  2.000000               32.6           247200.0   \n",
       "3453  1.900990               13.5           265700.0   \n",
       "\n",
       "      percent_bachelors_or_higher  percent_below_poverty  \\\n",
       "0                            29.2                    5.4   \n",
       "1                            28.8                    9.0   \n",
       "2                            22.6                    8.6   \n",
       "3                            24.4                    8.8   \n",
       "4                            46.3                    7.0   \n",
       "...                           ...                    ...   \n",
       "3449                         32.5                   10.2   \n",
       "3450                         36.0                    2.5   \n",
       "3451                         29.3                    1.0   \n",
       "3452                         26.0                    6.2   \n",
       "3453                         24.1                    3.2   \n",
       "\n",
       "      percent_highschool_or_higher  percent_no_health_insurance    rating  \\\n",
       "0                             92.6                          3.4  4.500000   \n",
       "1                             90.2                          2.6  4.250000   \n",
       "2                             88.1                          1.7  4.250000   \n",
       "3                             85.2                          3.5  3.589286   \n",
       "4                             96.3                          1.1  3.000000   \n",
       "...                            ...                          ...       ...   \n",
       "3449                          93.1                         12.5  3.479452   \n",
       "3450                          93.0                         17.2  3.944444   \n",
       "3451                          93.8                         17.2  3.542857   \n",
       "3452                          93.6                         14.9  5.000000   \n",
       "3453                          91.9                         14.1  3.762376   \n",
       "\n",
       "      review_count  unemployment_rate  ...  density  income_category  \\\n",
       "0         2.000000                6.9  ...    116.4              1.0   \n",
       "1         9.500000                7.8  ...    339.2              0.0   \n",
       "2        14.500000                6.5  ...    135.1              0.0   \n",
       "3        29.500000                9.5  ...    118.2              0.0   \n",
       "4        14.000000                5.6  ...     73.5              2.0   \n",
       "...            ...                ...  ...      ...              ...   \n",
       "3449     61.493151                5.0  ...    818.8              3.0   \n",
       "3450     52.444444                5.8  ...   1961.8              3.0   \n",
       "3451     55.000000                3.9  ...   1044.5              2.0   \n",
       "3452     22.000000                8.3  ...     22.0              2.0   \n",
       "3453     23.079208                7.0  ...      1.1              2.0   \n",
       "\n",
       "      price_weight  price_weight_contr  price_weight_contrv2  zip_code  \\\n",
       "0        27.000000            0.310416             15.520809      1069   \n",
       "1        84.250000            0.188872              2.409936      1201   \n",
       "2        98.875000            1.204471              7.461323      1220   \n",
       "3       215.267857            1.382315              3.824155      1247   \n",
       "4        84.000000            1.812689             12.947777      1373   \n",
       "...            ...                 ...                   ...       ...   \n",
       "3449    424.835616            1.815382              2.841930     99515   \n",
       "3450    404.666667            2.466728              4.504047     99517   \n",
       "3451    335.242857            3.208066              5.946685     99518   \n",
       "3452    220.000000            0.722496              3.284072     99645   \n",
       "3453    162.836634            1.178439              5.133926     99901   \n",
       "\n",
       "      high_price  4_star  1_star  zip_code  \n",
       "0              1       0       0      1069  \n",
       "1              1       0       0      1201  \n",
       "2              0       0       2      1220  \n",
       "3              3       0      24      1247  \n",
       "4              0       0       0      1373  \n",
       "...          ...     ...     ...       ...  \n",
       "3449           5       0      11     99515  \n",
       "3450           0       0       1     99517  \n",
       "3451           3       0      10     99518  \n",
       "3452           0       0       0     99645  \n",
       "3453          13       0      23     99901  \n",
       "\n",
       "[3454 rows x 22 columns]"
      ]
     },
     "execution_count": 38,
     "metadata": {},
     "output_type": "execute_result"
    }
   ],
   "source": [
    "mini_final"
   ]
  },
  {
   "cell_type": "markdown",
   "metadata": {},
   "source": [
    "### Exporting Files"
   ]
  },
  {
   "cell_type": "code",
   "execution_count": 40,
   "metadata": {},
   "outputs": [],
   "source": [
    "mini_final.to_csv('mini_finalv2.csv', index = False)"
   ]
  }
 ],
 "metadata": {
  "kernelspec": {
   "display_name": "Python 3",
   "language": "python",
   "name": "python3"
  },
  "language_info": {
   "codemirror_mode": {
    "name": "ipython",
    "version": 3
   },
   "file_extension": ".py",
   "mimetype": "text/x-python",
   "name": "python",
   "nbconvert_exporter": "python",
   "pygments_lexer": "ipython3",
   "version": "3.7.4"
  }
 },
 "nbformat": 4,
 "nbformat_minor": 2
}
